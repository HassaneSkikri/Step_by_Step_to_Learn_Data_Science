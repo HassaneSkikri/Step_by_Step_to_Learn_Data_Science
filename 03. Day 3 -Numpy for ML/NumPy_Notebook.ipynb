{
 "cells": [
  {
   "cell_type": "markdown",
   "id": "03366091",
   "metadata": {},
   "source": [
    "# NumPy"
   ]
  },
  {
   "cell_type": "markdown",
   "id": "617c53c4",
   "metadata": {},
   "source": [
    "## 1. Numpy Array Basics\n",
    "***what is Numpy:***<br>\n",
    "NumPy, which stands for Numerical Python, is a fundamental library for scientific computing in Python. It provides support for large, multi-dimensional array and matrix data structures, along with a large collection of high-level mathematical functions to operate on these arrays.\n",
    "\n",
    "***What is NumPy Arrays:***<br>\n",
    "A NumPy array is a central data structure of the NumPy library. Unlike Python lists, NumPy arrays are more compact, faster, and more efficient for mathematical operations. They are particularly useful for handling large datasets and performing numerical computations."
   ]
  },
  {
   "cell_type": "code",
   "execution_count": 14,
   "id": "3e643019",
   "metadata": {},
   "outputs": [
    {
     "name": "stdout",
     "output_type": "stream",
     "text": [
      "this is an array: [1 2 3 4 5]\n",
      "this is a multi dim array [[1 2 3]\n",
      " [4 5 6]]\n",
      "(5,)\n",
      "(2, 3)\n",
      "array of zeros [[0. 0. 0.]\n",
      " [0. 0. 0.]]\n",
      "array of ones [[1. 1.]\n",
      " [1. 1.]\n",
      " [1. 1.]]\n"
     ]
    }
   ],
   "source": [
    "import numpy as np\n",
    "\n",
    "example_array = np.array([1, 2, 3, 4, 5])\n",
    "print('this is an array:', example_array)\n",
    "\n",
    "multi_dim_array = np.array([[1, 2, 3], [4, 5, 6]])\n",
    "print('this is a multi dim array',multi_dim_array)\n",
    "\n",
    "print(example_array.shape)\n",
    "print(multi_dim_array.shape)\n",
    "\n",
    "zeros_array = np.zeros((2, 3))  # 2x3 array of zeros\n",
    "ones_array = np.ones((3, 2))   # 3x2 array of ones\n",
    "print(f\"array of zeros {zeros_array}\")\n",
    "print(f\"array of ones {ones_array}\")\n",
    "\n"
   ]
  },
  {
   "cell_type": "markdown",
   "id": "b7a519a0",
   "metadata": {},
   "source": [
    "## 2. Array Inspection\n",
    "Techniques to inspect the size, shape, memory consumption, and data types of arrays."
   ]
  },
  {
   "cell_type": "code",
   "execution_count": 15,
   "id": "85e283ae",
   "metadata": {},
   "outputs": [
    {
     "name": "stdout",
     "output_type": "stream",
     "text": [
      "Number of Dimensions: 2\n",
      "Shape of Array: (2, 3)\n",
      "Size of Array: 6\n",
      "Data Type of Array: int32\n"
     ]
    }
   ],
   "source": [
    "example_array = np.array([[1, 2, 3], [4, 5, 6]])\n",
    "print(\"Number of Dimensions:\", example_array.ndim)\n",
    "print(\"Shape of Array:\", example_array.shape)\n",
    "print(\"Size of Array:\", example_array.size)\n",
    "print(\"Data Type of Array:\", example_array.dtype)\n"
   ]
  },
  {
   "cell_type": "markdown",
   "id": "2889566e",
   "metadata": {},
   "source": [
    "## 3. Array Operations\n",
    "\n",
    "NumPy arrays facilitate easy and efficient execution of basic arithmetic operations. You can perform these operations on arrays element-wise, which means the operation is applied to each element individually."
   ]
  },
  {
   "cell_type": "code",
   "execution_count": 16,
   "id": "725fad37",
   "metadata": {},
   "outputs": [
    {
     "name": "stdout",
     "output_type": "stream",
     "text": [
      "[6 7 8]\n"
     ]
    }
   ],
   "source": [
    "array1 = np.array([1, 2, 3])\n",
    "array2 = np.array([4, 5, 6])\n",
    "print(array1 + 5)  # Broadcasting a scalar to each element of the array"
   ]
  },
  {
   "cell_type": "code",
   "execution_count": 17,
   "id": "62bcde9f",
   "metadata": {},
   "outputs": [
    {
     "name": "stdout",
     "output_type": "stream",
     "text": [
      "32\n",
      "[[19 22]\n",
      " [43 50]]\n"
     ]
    }
   ],
   "source": [
    "# Dot product\n",
    "dot_product = np.dot(array1, array2)\n",
    "print(dot_product)\n",
    "\n",
    "# Matrix multiplication\n",
    "matrix1 = np.array([[1, 2], [3, 4]])\n",
    "matrix2 = np.array([[5, 6], [7, 8]])\n",
    "matrix_product = np.matmul(matrix1, matrix2)\n",
    "print(matrix_product)"
   ]
  },
  {
   "cell_type": "markdown",
   "id": "8b423abf",
   "metadata": {},
   "source": [
    "## 4. Working with NumPy Arrays\n",
    "Indexing, slicing, iterating, and reshaping arrays."
   ]
  },
  {
   "cell_type": "code",
   "execution_count": 22,
   "id": "cf49297c",
   "metadata": {},
   "outputs": [
    {
     "name": "stdout",
     "output_type": "stream",
     "text": [
      "1\n",
      "5\n",
      "2\n",
      "[2 3 4]\n",
      "[[2 3]\n",
      " [5 6]]\n"
     ]
    }
   ],
   "source": [
    "array = np.array([1, 2, 3, 4, 5])\n",
    "print(array[0])  # Accessing the 1 element of the array\n",
    "print(array[-1])  #accessing the last element of the array\n",
    "\n",
    "matrix = np.array([[1, 2, 3], [4, 5, 6], [7, 8, 9]])\n",
    "print(matrix[0, 1])  # Accessing element in the first row and second column\n"
   ]
  },
  {
   "cell_type": "code",
   "execution_count": 23,
   "id": "d38ce577",
   "metadata": {},
   "outputs": [
    {
     "name": "stdout",
     "output_type": "stream",
     "text": [
      "[2 3 4]\n",
      "[[2 3]\n",
      " [5 6]]\n"
     ]
    }
   ],
   "source": [
    "# slicing\n",
    "print(array[1:4])  # Elements from index 1 to 3\n",
    "print(matrix[0:2, 1:3])  # First two rows and the second and third columns"
   ]
  },
  {
   "cell_type": "code",
   "execution_count": 28,
   "id": "74b30657",
   "metadata": {},
   "outputs": [
    {
     "name": "stdout",
     "output_type": "stream",
     "text": [
      "[0 1 2 3 4 5 6 7 8 9]\n",
      "[[0 1 2 3 4]\n",
      " [5 6 7 8 9]]\n",
      "[[0 1]\n",
      " [2 3]\n",
      " [4 5]\n",
      " [6 7]\n",
      " [8 9]]\n"
     ]
    }
   ],
   "source": [
    "array =  np.arange(10)\n",
    "reshaped_array1 = array.reshape(2, 5)  # Reshape an array to 2 rows and 5 columns\n",
    "reshaped_array2 = array.reshape(5, -1)  # Reshape an array to 2 rows and 5 columns\n",
    "\n",
    "print(array)\n",
    "print(reshaped_array1)\n",
    "print(reshaped_array2)\n",
    "\n"
   ]
  },
  {
   "cell_type": "markdown",
   "id": "142b9ad5",
   "metadata": {},
   "source": [
    "## 5. NumPy for Data Cleaning\n",
    "\n",
    "Data cleaning is an essential step in the data analysis process. NumPy offers several functions and techniques to handle missing data and clean data sets, ensuring they are well-prepared for analysis."
   ]
  },
  {
   "cell_type": "code",
   "execution_count": 29,
   "id": "6103ae30",
   "metadata": {},
   "outputs": [
    {
     "name": "stdout",
     "output_type": "stream",
     "text": [
      "[False  True False False  True]\n"
     ]
    }
   ],
   "source": [
    "# np.isnan() to identify missing values in an array.\n",
    "data = np.array([1, np.nan, 3, 4, np.nan])\n",
    "print(np.isnan(data)) "
   ]
  },
  {
   "cell_type": "code",
   "execution_count": 32,
   "id": "8ac06a14",
   "metadata": {},
   "outputs": [
    {
     "name": "stdout",
     "output_type": "stream",
     "text": [
      "[[4. 5. 6.]]\n"
     ]
    }
   ],
   "source": [
    "\n",
    "# Removing Missing Values:\n",
    "data = np.array([[1, 2, np.nan], [4, 5, 6], [np.nan, 8, 9]])\n",
    "clean_data = data[~np.isnan(data).any(axis=1)]  # Removes rows with any NaN values\n",
    "print(clean_data)\n"
   ]
  },
  {
   "cell_type": "code",
   "execution_count": null,
   "id": "5d97fd88",
   "metadata": {},
   "outputs": [],
   "source": [
    "# Replacing NaN with the mean\n",
    "mean_val = np.nanmean(data)\n",
    "filled_data = np.nan_to_num(data, nan=mean_val)\n",
    "print(filled_data)\n"
   ]
  },
  {
   "cell_type": "code",
   "execution_count": 41,
   "id": "eb952717",
   "metadata": {},
   "outputs": [
    {
     "name": "stdout",
     "output_type": "stream",
     "text": [
      "Clean Array: [   1.    0.    3.    4.    5.    2.   10.   22. 1000. 1000.]\n"
     ]
    }
   ],
   "source": [
    "array_with_nan = np.array([1, np.nan, 3, 4, 5,2,10,22,1000,1000])\n",
    "clean_array = np.nan_to_num(array_with_nan)\n",
    "print('Clean Array:', clean_array)"
   ]
  },
  {
   "cell_type": "code",
   "execution_count": 44,
   "id": "907d9c9e",
   "metadata": {},
   "outputs": [
    {
     "name": "stdout",
     "output_type": "stream",
     "text": [
      "204.7 397.69562481878023\n",
      "0.20469999999999997 0.39769562481878024\n"
     ]
    }
   ],
   "source": [
    "normalized_data = (clean_array  - np.min(clean_array )) / (np.max(clean_array ) - np.min(clean_array ))\n",
    "print(np.mean(clean_array ),np.std(clean_array ))\n",
    "print(np.mean(normalized_data ),np.std(normalized_data ))"
   ]
  },
  {
   "cell_type": "code",
   "execution_count": 46,
   "id": "26d21931",
   "metadata": {},
   "outputs": [],
   "source": [
    "# Converting Data Types:\n",
    "int_array = clean_array.astype(int)"
   ]
  },
  {
   "cell_type": "markdown",
   "id": "97e64a5f",
   "metadata": {},
   "source": [
    "## 6. NumPy for Statistical Analysis\n",
    "\n",
    "NumPy provides a comprehensive set of functions to perform statistical analysis on arrays. These functions allow you to calculate various statistical measures, which are fundamental in understanding the distribution, variability, and central tendency of your data"
   ]
  },
  {
   "cell_type": "code",
   "execution_count": 48,
   "id": "a38e36a4",
   "metadata": {},
   "outputs": [
    {
     "name": "stdout",
     "output_type": "stream",
     "text": [
      "Mean Score: 87.1\n",
      "Median Score: 88.5\n",
      "Variance: 90.88999999999999\n",
      "Standard Deviation: 9.53362470417207\n",
      "Minimum Score: 72\n",
      "Maximum Score: 100\n",
      "Range of Scores: 28\n"
     ]
    }
   ],
   "source": [
    "scores = np.array([88, 72, 93, 94, 89, 78, 99, 100, 73, 85])\n",
    "\n",
    "mean_score = np.mean(scores)      \n",
    "median_score = np.median(scores)    \n",
    "variance_score = np.var(scores)    \n",
    "std_deviation_score = np.std(scores) \n",
    "min_score = np.min(scores)          \n",
    "max_score = np.max(scores)        \n",
    "range_scores = np.ptp(scores)       # Range (Max - Min)\n",
    "\n",
    "# Printing the results\n",
    "print(\"Mean Score:\", mean_score)\n",
    "print(\"Median Score:\", median_score)\n",
    "print(\"Variance:\", variance_score)\n",
    "print(\"Standard Deviation:\", std_deviation_score)\n",
    "print(\"Minimum Score:\", min_score)\n",
    "print(\"Maximum Score:\", max_score)\n",
    "print(\"Range of Scores:\", range_scores)\n"
   ]
  },
  {
   "cell_type": "markdown",
   "id": "48f06abf",
   "metadata": {},
   "source": [
    "## 7. Advanced NumPy Techniques\n",
    "Description: Advanced topics like vectorization, broadcasting, and more."
   ]
  },
  {
   "cell_type": "code",
   "execution_count": 50,
   "id": "61ab8f70",
   "metadata": {},
   "outputs": [
    {
     "name": "stdout",
     "output_type": "stream",
     "text": [
      "Vectorized Array: [[ 2  4  6]\n",
      " [ 8 10 12]]\n",
      "Euclidean Distances: [8.48528137 8.48528137 8.48528137]\n"
     ]
    }
   ],
   "source": [
    "vectorized_array = np.vectorize(lambda x: x * 2)(example_array)\n",
    "print('Vectorized Array:', vectorized_array)\n",
    "\n",
    "set1 = np.array([[1, 2], [3, 4], [5, 6]])\n",
    "set2 = np.array([[7, 8], [9, 10], [11, 12]])\n",
    "\n",
    "# Vectorized operation to calculate Euclidean distance\n",
    "distances = np.sqrt(np.sum((set1 - set2) ** 2, axis=1))\n",
    "print(\"Euclidean Distances:\", distances)"
   ]
  }
 ],
 "metadata": {
  "kernelspec": {
   "display_name": "Python 3",
   "language": "python",
   "name": "python3"
  },
  "language_info": {
   "codemirror_mode": {
    "name": "ipython",
    "version": 3
   },
   "file_extension": ".py",
   "mimetype": "text/x-python",
   "name": "python",
   "nbconvert_exporter": "python",
   "pygments_lexer": "ipython3",
   "version": "3.11.4"
  }
 },
 "nbformat": 4,
 "nbformat_minor": 5
}
