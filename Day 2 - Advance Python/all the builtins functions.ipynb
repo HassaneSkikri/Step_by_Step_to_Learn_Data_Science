{
 "cells": [
  {
   "cell_type": "markdown",
   "id": "f267421b",
   "metadata": {},
   "source": [
    "### to see all the builtins functions : dir(__builtins__)"
   ]
  },
  {
   "cell_type": "code",
   "execution_count": 1,
   "id": "030e2e7d",
   "metadata": {},
   "outputs": [
    {
     "data": {
      "text/plain": [
       "['ArithmeticError',\n",
       " 'AssertionError',\n",
       " 'AttributeError',\n",
       " 'BaseException',\n",
       " 'BaseExceptionGroup',\n",
       " 'BlockingIOError',\n",
       " 'BrokenPipeError',\n",
       " 'BufferError',\n",
       " 'BytesWarning',\n",
       " 'ChildProcessError',\n",
       " 'ConnectionAbortedError',\n",
       " 'ConnectionError',\n",
       " 'ConnectionRefusedError',\n",
       " 'ConnectionResetError',\n",
       " 'DeprecationWarning',\n",
       " 'EOFError',\n",
       " 'Ellipsis',\n",
       " 'EncodingWarning',\n",
       " 'EnvironmentError',\n",
       " 'Exception',\n",
       " 'ExceptionGroup',\n",
       " 'False',\n",
       " 'FileExistsError',\n",
       " 'FileNotFoundError',\n",
       " 'FloatingPointError',\n",
       " 'FutureWarning',\n",
       " 'GeneratorExit',\n",
       " 'IOError',\n",
       " 'ImportError',\n",
       " 'ImportWarning',\n",
       " 'IndentationError',\n",
       " 'IndexError',\n",
       " 'InterruptedError',\n",
       " 'IsADirectoryError',\n",
       " 'KeyError',\n",
       " 'KeyboardInterrupt',\n",
       " 'LookupError',\n",
       " 'MemoryError',\n",
       " 'ModuleNotFoundError',\n",
       " 'NameError',\n",
       " 'None',\n",
       " 'NotADirectoryError',\n",
       " 'NotImplemented',\n",
       " 'NotImplementedError',\n",
       " 'OSError',\n",
       " 'OverflowError',\n",
       " 'PendingDeprecationWarning',\n",
       " 'PermissionError',\n",
       " 'ProcessLookupError',\n",
       " 'RecursionError',\n",
       " 'ReferenceError',\n",
       " 'ResourceWarning',\n",
       " 'RuntimeError',\n",
       " 'RuntimeWarning',\n",
       " 'StopAsyncIteration',\n",
       " 'StopIteration',\n",
       " 'SyntaxError',\n",
       " 'SyntaxWarning',\n",
       " 'SystemError',\n",
       " 'SystemExit',\n",
       " 'TabError',\n",
       " 'TimeoutError',\n",
       " 'True',\n",
       " 'TypeError',\n",
       " 'UnboundLocalError',\n",
       " 'UnicodeDecodeError',\n",
       " 'UnicodeEncodeError',\n",
       " 'UnicodeError',\n",
       " 'UnicodeTranslateError',\n",
       " 'UnicodeWarning',\n",
       " 'UserWarning',\n",
       " 'ValueError',\n",
       " 'Warning',\n",
       " 'WindowsError',\n",
       " 'ZeroDivisionError',\n",
       " '__IPYTHON__',\n",
       " '__build_class__',\n",
       " '__debug__',\n",
       " '__doc__',\n",
       " '__import__',\n",
       " '__loader__',\n",
       " '__name__',\n",
       " '__package__',\n",
       " '__spec__',\n",
       " 'abs',\n",
       " 'aiter',\n",
       " 'all',\n",
       " 'anext',\n",
       " 'any',\n",
       " 'ascii',\n",
       " 'bin',\n",
       " 'bool',\n",
       " 'breakpoint',\n",
       " 'bytearray',\n",
       " 'bytes',\n",
       " 'callable',\n",
       " 'chr',\n",
       " 'classmethod',\n",
       " 'compile',\n",
       " 'complex',\n",
       " 'copyright',\n",
       " 'credits',\n",
       " 'delattr',\n",
       " 'dict',\n",
       " 'dir',\n",
       " 'display',\n",
       " 'divmod',\n",
       " 'enumerate',\n",
       " 'eval',\n",
       " 'exec',\n",
       " 'execfile',\n",
       " 'filter',\n",
       " 'float',\n",
       " 'format',\n",
       " 'frozenset',\n",
       " 'get_ipython',\n",
       " 'getattr',\n",
       " 'globals',\n",
       " 'hasattr',\n",
       " 'hash',\n",
       " 'help',\n",
       " 'hex',\n",
       " 'id',\n",
       " 'input',\n",
       " 'int',\n",
       " 'isinstance',\n",
       " 'issubclass',\n",
       " 'iter',\n",
       " 'len',\n",
       " 'license',\n",
       " 'list',\n",
       " 'locals',\n",
       " 'map',\n",
       " 'max',\n",
       " 'memoryview',\n",
       " 'min',\n",
       " 'next',\n",
       " 'object',\n",
       " 'oct',\n",
       " 'open',\n",
       " 'ord',\n",
       " 'pow',\n",
       " 'print',\n",
       " 'property',\n",
       " 'range',\n",
       " 'repr',\n",
       " 'reversed',\n",
       " 'round',\n",
       " 'runfile',\n",
       " 'set',\n",
       " 'setattr',\n",
       " 'slice',\n",
       " 'sorted',\n",
       " 'staticmethod',\n",
       " 'str',\n",
       " 'sum',\n",
       " 'super',\n",
       " 'tuple',\n",
       " 'type',\n",
       " 'vars',\n",
       " 'zip']"
      ]
     },
     "execution_count": 1,
     "metadata": {},
     "output_type": "execute_result"
    }
   ],
   "source": [
    "dir(__builtins__)\n"
   ]
  },
  {
   "cell_type": "markdown",
   "id": "ec38a117",
   "metadata": {},
   "source": [
    "### 1) abs()"
   ]
  },
  {
   "cell_type": "code",
   "execution_count": 2,
   "id": "06f6be8f",
   "metadata": {},
   "outputs": [
    {
     "name": "stdout",
     "output_type": "stream",
     "text": [
      "the absolute value of -5 is  5\n"
     ]
    }
   ],
   "source": [
    "# to return the absolute value of a number \n",
    "\n",
    "print(\"the absolute value of -5 is \",abs(-5))\n",
    "\n",
    "# print(f\"the absolute value of -5 is {abs(-5)}\")"
   ]
  },
  {
   "cell_type": "code",
   "execution_count": 3,
   "id": "98a8af30",
   "metadata": {},
   "outputs": [
    {
     "data": {
      "text/plain": [
       "[1, 2, 8, 9]"
      ]
     },
     "execution_count": 3,
     "metadata": {},
     "output_type": "execute_result"
    }
   ],
   "source": [
    "mylist=[1,-2,-8,-9]\n",
    "\n",
    "# for i in mylist:\n",
    "#     newlist.append(abs(i))\n",
    "# newlist\n",
    "#or\n",
    "\n",
    "newlist=[abs(i) for i in mylist]\n",
    "newlist"
   ]
  },
  {
   "cell_type": "markdown",
   "id": "4614016a",
   "metadata": {},
   "source": [
    "### 2) all(iterable) return True if all the element of the iterable are True "
   ]
  },
  {
   "cell_type": "code",
   "execution_count": 4,
   "id": "d1eb0da7",
   "metadata": {},
   "outputs": [
    {
     "name": "stdout",
     "output_type": "stream",
     "text": [
      "True\n",
      "True\n",
      "False\n",
      "False\n",
      "True\n"
     ]
    }
   ],
   "source": [
    "print(all(\"hassane\"))\n",
    "print(all(\"\"))\n",
    "print(all([False,1]))\n",
    "print(all([0,1]))\n",
    "print(all([1,4,8]))"
   ]
  },
  {
   "cell_type": "code",
   "execution_count": 5,
   "id": "338309d0",
   "metadata": {},
   "outputs": [
    {
     "name": "stdout",
     "output_type": "stream",
     "text": [
      "True\n",
      "False\n"
     ]
    }
   ],
   "source": [
    "same = [1,1,1]\n",
    "diff = [1,2,3]\n",
    "print(all([i == 1 for i in same]))\n",
    "print(all ([i == 1 for i in diff]))"
   ]
  },
  {
   "cell_type": "markdown",
   "id": "89784b41",
   "metadata": {},
   "source": [
    "### 3) any(iterable) rturrn True if any element of the iterable are True "
   ]
  },
  {
   "cell_type": "code",
   "execution_count": 6,
   "id": "4f9211bf",
   "metadata": {
    "scrolled": true
   },
   "outputs": [
    {
     "name": "stdout",
     "output_type": "stream",
     "text": [
      "False\n",
      "True\n",
      "True\n",
      "False\n"
     ]
    }
   ],
   "source": [
    "print(any(\"\"))\n",
    "print(any([1,0]))\n",
    "names = [\"hassane\",\"mohamed\",\"ali\",\"amine\"]\n",
    "print(any([x==\"hassane\" for x in names]))\n",
    "print(any([x==\"ana\" for x in names]))"
   ]
  },
  {
   "cell_type": "markdown",
   "id": "86354699",
   "metadata": {},
   "source": [
    "### 4) ascii(object)  return a string containing a printable representation of an object\n",
    "![Table ASCI](https://th.bing.com/th/id/R.56b914ac12fe39cee5ec607d6e022f6f?rik=uoNMMd8%2bOqnDmg&riu=http%3a%2f%2fwww.charstable.com%2f_site_media%2fascii%2fchars-table-landscape.jpg&ehk=%2bObQP3q%2b8N4urt054Ue9T%2fL7wNDBDfUrWN2uHxyglP0%3d&risl=&pid=ImgRaw&r=0) |\n"
   ]
  },
  {
   "cell_type": "code",
   "execution_count": 7,
   "id": "dfc5e42f",
   "metadata": {},
   "outputs": [
    {
     "data": {
      "text/plain": [
       "str"
      ]
     },
     "execution_count": 7,
     "metadata": {},
     "output_type": "execute_result"
    }
   ],
   "source": [
    "type(ascii([]))"
   ]
  },
  {
   "cell_type": "code",
   "execution_count": 8,
   "id": "5deb331f",
   "metadata": {},
   "outputs": [
    {
     "name": "stdout",
     "output_type": "stream",
     "text": [
      "1\n"
     ]
    },
    {
     "data": {
      "text/plain": [
       "'1'"
      ]
     },
     "execution_count": 8,
     "metadata": {},
     "output_type": "execute_result"
    }
   ],
   "source": [
    "print(ascii(1))\n",
    "ascii(1)"
   ]
  },
  {
   "cell_type": "code",
   "execution_count": 9,
   "id": "f21b9025",
   "metadata": {},
   "outputs": [
    {
     "name": "stdout",
     "output_type": "stream",
     "text": [
      "'A'\n"
     ]
    },
    {
     "data": {
      "text/plain": [
       "\"'A'\""
      ]
     },
     "execution_count": 9,
     "metadata": {},
     "output_type": "execute_result"
    }
   ],
   "source": [
    "print(ascii(\"A\")) # print act like a cleaner \n",
    "ascii(\"A\")"
   ]
  },
  {
   "cell_type": "code",
   "execution_count": 10,
   "id": "34380ff2",
   "metadata": {},
   "outputs": [
    {
     "name": "stdout",
     "output_type": "stream",
     "text": [
      "'<'\n",
      "'\\xe9'\n"
     ]
    }
   ],
   "source": [
    "print(ascii(\"<\"))\n",
    "print(ascii(\"é\"))"
   ]
  },
  {
   "cell_type": "markdown",
   "id": "b252ba55",
   "metadata": {},
   "source": [
    "### 5) bin(integer) positive or negative"
   ]
  },
  {
   "cell_type": "code",
   "execution_count": 11,
   "id": "b8af2d78",
   "metadata": {},
   "outputs": [
    {
     "name": "stdout",
     "output_type": "stream",
     "text": [
      "0b1\n",
      "-0b1\n"
     ]
    }
   ],
   "source": [
    "print(bin(1))\n",
    "print(bin(-1))"
   ]
  },
  {
   "cell_type": "code",
   "execution_count": 12,
   "id": "c475ac9f",
   "metadata": {},
   "outputs": [
    {
     "name": "stdout",
     "output_type": "stream",
     "text": [
      "0b100\n"
     ]
    }
   ],
   "source": [
    "print(bin(4))"
   ]
  },
  {
   "cell_type": "code",
   "execution_count": 13,
   "id": "425e35eb",
   "metadata": {},
   "outputs": [
    {
     "name": "stdout",
     "output_type": "stream",
     "text": [
      "0x4\n",
      "0b100\n"
     ]
    }
   ],
   "source": [
    "print(hex(4))\n",
    "print(bin(0x4))\n",
    "#### error print(hex(4)) because hex(4) return a string "
   ]
  },
  {
   "cell_type": "code",
   "execution_count": 14,
   "id": "b2b25bb9",
   "metadata": {},
   "outputs": [
    {
     "data": {
      "text/plain": [
       "str"
      ]
     },
     "execution_count": 14,
     "metadata": {},
     "output_type": "execute_result"
    }
   ],
   "source": [
    "type(bin(1))"
   ]
  },
  {
   "cell_type": "code",
   "execution_count": 15,
   "id": "9293347a",
   "metadata": {},
   "outputs": [
    {
     "name": "stdout",
     "output_type": "stream",
     "text": [
      "0b1\n",
      "1\n",
      "100\n",
      "10\n"
     ]
    }
   ],
   "source": [
    "print(format(1,'#b'))\n",
    "print(format(1,'b'))\n",
    "print(format(4,'b'))\n",
    "print(format(10,'d'))"
   ]
  },
  {
   "cell_type": "markdown",
   "id": "3e2f660b",
   "metadata": {},
   "source": [
    "### 6) bool() "
   ]
  },
  {
   "cell_type": "code",
   "execution_count": 16,
   "id": "279cedb2",
   "metadata": {},
   "outputs": [
    {
     "name": "stdout",
     "output_type": "stream",
     "text": [
      "True\n",
      "False\n",
      "True\n",
      "False\n",
      "True\n",
      "True\n"
     ]
    }
   ],
   "source": [
    "print(bool(1))\n",
    "print(bool(0))\n",
    "print(bool(3456))\n",
    "print(bool(False))\n",
    "print(bool([True,False]))\n",
    "print(bool(\"False\"))"
   ]
  },
  {
   "cell_type": "markdown",
   "id": "7cf78e09",
   "metadata": {},
   "source": [
    "### 7) bytes()\n",
    "### 8) bytearray()"
   ]
  },
  {
   "cell_type": "code",
   "execution_count": 17,
   "id": "7f2c2289",
   "metadata": {},
   "outputs": [
    {
     "name": "stdout",
     "output_type": "stream",
     "text": [
      "b'\\x00'\n",
      "b'\\x00\\x00\\x00\\x00'\n"
     ]
    }
   ],
   "source": [
    "print(bytes(1))\n",
    "print(bytes(4))"
   ]
  },
  {
   "cell_type": "code",
   "execution_count": 18,
   "id": "0547dcb4",
   "metadata": {},
   "outputs": [
    {
     "name": "stdout",
     "output_type": "stream",
     "text": [
      "b'\\x01\\x02\\x03'\n",
      "bytearray(b'\\x01\\x02\\x03')\n"
     ]
    }
   ],
   "source": [
    "print(bytes([1,2,3]))\n",
    "print(bytearray([1,2,3]))"
   ]
  },
  {
   "cell_type": "code",
   "execution_count": 19,
   "id": "585362b1",
   "metadata": {},
   "outputs": [
    {
     "name": "stdout",
     "output_type": "stream",
     "text": [
      "bytearray(b'\\x01\\x02\\x03')\n",
      "b'\\x01\\x02\\x03'\n"
     ]
    }
   ],
   "source": [
    "x= bytearray([1,2,3])\n",
    "y= bytes([1,2,3])\n",
    "print(x)\n",
    "print(y)"
   ]
  },
  {
   "cell_type": "code",
   "execution_count": 20,
   "id": "99f860c4",
   "metadata": {},
   "outputs": [
    {
     "data": {
      "text/plain": [
       "bytearray(b'\\x01\\x02\\x03\\x04')"
      ]
     },
     "execution_count": 20,
     "metadata": {},
     "output_type": "execute_result"
    }
   ],
   "source": [
    "x.append(4)\n",
    "x"
   ]
  },
  {
   "cell_type": "code",
   "execution_count": 21,
   "id": "2f11054d",
   "metadata": {},
   "outputs": [],
   "source": [
    "#y.append(4)\n",
    "#print(y)\n",
    "#this will print an error"
   ]
  },
  {
   "cell_type": "code",
   "execution_count": 22,
   "id": "b27627da",
   "metadata": {},
   "outputs": [
    {
     "name": "stdout",
     "output_type": "stream",
     "text": [
      "bytearray(b'hello')\n"
     ]
    }
   ],
   "source": [
    "print(bytearray(\"hello\",\"ascii\")) \n",
    "#converts the string \"hello\" into an array of bytes using ASCII encoding"
   ]
  },
  {
   "cell_type": "markdown",
   "id": "7bb3cbdb",
   "metadata": {},
   "source": [
    "**it's stored as a sequence of bytes [104, 101, 108, 108, 111], which correspond to the ASCII values for 'h', 'e', 'l', 'l', 'o'.**"
   ]
  },
  {
   "cell_type": "code",
   "execution_count": 23,
   "id": "d2d0b1c0",
   "metadata": {},
   "outputs": [
    {
     "name": "stdout",
     "output_type": "stream",
     "text": [
      "bytearray(b'hi?')\n",
      "bytearray(b'hi')\n",
      "bytearray(b'hi\\xc3\\xa9')\n"
     ]
    }
   ],
   "source": [
    "print(bytearray(\"hié\",\"ascii\",\"replace\"))\n",
    "print(bytearray(\"hié\",\"ascii\",\"ignore\"))\n",
    "print(bytearray(\"hié\",\"UTF-8\",\"replace\"))\n",
    "#'é', however, is a non-ASCII character. In UTF-8, it is represented by two bytes: 0xC3 0xA9."
   ]
  },
  {
   "cell_type": "code",
   "execution_count": 5,
   "id": "ed0e080d",
   "metadata": {},
   "outputs": [
    {
     "name": "stdout",
     "output_type": "stream",
     "text": [
      "True\n",
      "True\n",
      "An instance of MyClass was created!\n",
      "True\n",
      "An instance of MyClass was created!\n",
      "True\n"
     ]
    }
   ],
   "source": [
    "def my_function():\n",
    "    return \"Hello, World!\"\n",
    "\n",
    "class MyClass:\n",
    "    def __init__(self):\n",
    "        print(\"An instance of MyClass was created!\")\n",
    "\n",
    "    def __call__(self):\n",
    "        print(\"Instance is called!\")\n",
    "\n",
    "print(callable(my_function))  # True because my_function is a function\n",
    "print(callable(MyClass))      # True because MyClass is a class and can be instantiated\n",
    "print(callable(MyClass()))    # True because MyClass instances are callable due to __call__\n",
    "                            # it will be False if __call__ don't existe\n",
    "\n",
    "my_object = MyClass()\n",
    "print(callable(my_object))    # True because my_object is an instance of MyClass and MyClass defines __call__\n"
   ]
  },
  {
   "cell_type": "markdown",
   "id": "eaa382fa",
   "metadata": {},
   "source": [
    "### 10) chr() :   The function takes a single argument, an integer between 0 and 1,114,111 (0x10FFFF in hexadecimal), and returns the corresponding character as a string.\n",
    "\n",
    "### 11) ord() :   takes a character as its argument and returns its Unicode code point"
   ]
  },
  {
   "cell_type": "code",
   "execution_count": 11,
   "id": "2c48a9ad",
   "metadata": {},
   "outputs": [
    {
     "name": "stdout",
     "output_type": "stream",
     "text": [
      "d\n",
      "100\n"
     ]
    }
   ],
   "source": [
    "print(chr(100))\n",
    "print(ord(\"d\"))"
   ]
  },
  {
   "cell_type": "code",
   "execution_count": 19,
   "id": "873d6f0a",
   "metadata": {},
   "outputs": [
    {
     "name": "stdout",
     "output_type": "stream",
     "text": [
      "[104, 101, 108, 108, 111]\n",
      "hello\n"
     ]
    }
   ],
   "source": [
    "unicodeNum=[]\n",
    "def str_to_unicode(str):\n",
    "    for s in str:\n",
    "        unicodeNum.append(ord(s))\n",
    "    return unicodeNum\n",
    "def unicode_to_str(list):\n",
    "    newString=\"\"\n",
    "    for i in list:\n",
    "        newString += chr(i)\n",
    "    return newString\n",
    "print(str_to_unicode(\"hello\"))\n",
    "print(unicode_to_str([104, 101, 108, 108, 111]))"
   ]
  },
  {
   "cell_type": "markdown",
   "id": "40756687",
   "metadata": {},
   "source": [
    "### 12) @classmethode :can be used for utility functions that make sense within the context of the class but don't need to access any instance-specific data.\n",
    "\n",
    "\n",
    "\n",
    "\n",
    "\n",
    "\n"
   ]
  },
  {
   "cell_type": "code",
   "execution_count": 22,
   "id": "a435a42e",
   "metadata": {},
   "outputs": [
    {
     "data": {
      "text/plain": [
       "(('Alice', 30), ('Bob', 30))"
      ]
     },
     "execution_count": 22,
     "metadata": {},
     "output_type": "execute_result"
    }
   ],
   "source": [
    "# Re-implementing the provided class with class method example due to environment reset.\n",
    "class Person:\n",
    "    def __init__(self, name, age):\n",
    "        self.name = name\n",
    "        self.age = age\n",
    "\n",
    "    @classmethod\n",
    "    def from_birth_year(cls, name, birth_year):\n",
    "        current_year = 2024  # Assume the current year is 2024 for this example\n",
    "        age = current_year - birth_year\n",
    "        return cls(name, age)\n",
    "\n",
    "# Create a Person instance using the standard constructor\n",
    "person1 = Person('Alice', 30)\n",
    "\n",
    "# Create a Person instance using the from_birth_year class method\n",
    "person2 = Person.from_birth_year('Bob', 1994)\n",
    "\n",
    "(person1.name, person1.age), (person2.name, person2.age)\n"
   ]
  },
  {
   "cell_type": "markdown",
   "id": "79ce7c6c",
   "metadata": {},
   "source": [
    "### 13) compile(source, filename, mode, flags=0, dont_inherit=False, optimize=-1)\n",
    "\n",
    " create Python bytecode, which can be executed more quickly than parsing source files.\n",
    " \n",
    " not used a lot of time"
   ]
  },
  {
   "cell_type": "markdown",
   "id": "8409dc7f",
   "metadata": {},
   "source": [
    "### 14)complex(rel,img)"
   ]
  },
  {
   "cell_type": "code",
   "execution_count": 39,
   "id": "79eb5a96",
   "metadata": {
    "scrolled": true
   },
   "outputs": [
    {
     "data": {
      "text/plain": [
       "(1+2j)"
      ]
     },
     "execution_count": 39,
     "metadata": {},
     "output_type": "execute_result"
    }
   ],
   "source": [
    "complex(1,2)"
   ]
  },
  {
   "cell_type": "code",
   "execution_count": 40,
   "id": "192801fa",
   "metadata": {
    "scrolled": true
   },
   "outputs": [
    {
     "data": {
      "text/plain": [
       "(3+5j)"
      ]
     },
     "execution_count": 40,
     "metadata": {},
     "output_type": "execute_result"
    }
   ],
   "source": [
    "complex(1,2)+complex(2,3)"
   ]
  },
  {
   "cell_type": "markdown",
   "id": "0699e3a6",
   "metadata": {},
   "source": [
    "### 15) callable(): eturns True if the argument appears callable, False otherwise. A callable means that the object can be called like a function. "
   ]
  },
  {
   "cell_type": "markdown",
   "id": "74fa64a1",
   "metadata": {},
   "source": [
    "###  16) breakpoint() : it pauses execution at that line and opens an interactive debugging session in the console."
   ]
  },
  {
   "cell_type": "code",
   "execution_count": 36,
   "id": "0e11c25b",
   "metadata": {},
   "outputs": [
    {
     "name": "stdout",
     "output_type": "stream",
     "text": [
      "An error occurred.\n"
     ]
    }
   ],
   "source": [
    "# we can you the try to handel the errors\n",
    "def debugger(a, b):\n",
    "    result = a / b  # This line will raise ZeroDivisionError when b is 0.\n",
    "    return result\n",
    "\n",
    "try:\n",
    "    print(debugger(5, 0))\n",
    "except:\n",
    "    # After this exception occurs, you would manually run %debug in a new cell to start the debugger.\n",
    "    print(\"An error occurred.\")\n"
   ]
  },
  {
   "cell_type": "markdown",
   "id": "613793bc",
   "metadata": {},
   "source": [
    "Jupyter Notebooks have a built-in magic command %debug that you can use after an exception has been raised. This will start an interactive debugging session at the point where the exception occurred. You don't need to add breakpoint() in your code for this to work."
   ]
  },
  {
   "cell_type": "code",
   "execution_count": 35,
   "id": "363dfbba",
   "metadata": {},
   "outputs": [
    {
     "name": "stdout",
     "output_type": "stream",
     "text": [
      "> \u001b[1;32mc:\\users\\skikr\\appdata\\local\\temp\\ipykernel_12712\\420656826.py\u001b[0m(4)\u001b[0;36mdebugger\u001b[1;34m()\u001b[0m\n",
      "\n",
      "ipdb> next\n",
      "> \u001b[1;32mc:\\users\\skikr\\appdata\\local\\temp\\ipykernel_12712\\420656826.py\u001b[0m(4)\u001b[0;36mdebugger\u001b[1;34m()\u001b[0m\n",
      "\n",
      "ipdb> a\n",
      "a = 5\n",
      "b = 0\n",
      "ipdb> next\n",
      "0.5\n"
     ]
    }
   ],
   "source": [
    "def debugger(a, b):\n",
    "    # adding a breakpoint()\n",
    "    %debug\n",
    "    result = a / b\n",
    "    %debug\n",
    "    return result\n",
    "print(debugger(5, 10))"
   ]
  },
  {
   "cell_type": "markdown",
   "id": "d5402581",
   "metadata": {},
   "source": [
    "### 17)  delattr() delete an attribute from an object, if the object allows it. The function takes two arguments: the object and the name of the attribute to be deleted as a string.\n",
    " **delattr(object, name)**\n",
    " \n",
    "equivalent to ***del object.name***\n",
    "\n",
    "don't used on dict"
   ]
  },
  {
   "cell_type": "code",
   "execution_count": 40,
   "id": "5b5ea226",
   "metadata": {},
   "outputs": [
    {
     "name": "stdout",
     "output_type": "stream",
     "text": [
      "Before deletion: 100\n",
      "'MyClass' object has no attribute 'attribute'\n"
     ]
    }
   ],
   "source": [
    "class MyClass:\n",
    "    def __init__(self):\n",
    "        self.attribute = 100\n",
    "obj = MyClass()\n",
    "\n",
    "# Check if the attribute exists and print its value\n",
    "if hasattr(obj, 'attribute'):\n",
    "    print(\"Before deletion:\", obj.attribute)\n",
    "\n",
    "# Delete the attribute 'attribute'\n",
    "delattr(obj, 'attribute')\n",
    "# or we can do del obj\n",
    "\n",
    "# Check if the attribute exists after deletion\n",
    "try:\n",
    "    print(\"After deletion:\", obj.attribute)\n",
    "except AttributeError as e:\n",
    "    print(e)  \n"
   ]
  },
  {
   "cell_type": "markdown",
   "id": "cd1f6dd4",
   "metadata": {},
   "source": [
    "### 18) dict()"
   ]
  },
  {
   "cell_type": "code",
   "execution_count": 41,
   "id": "f6ace810",
   "metadata": {
    "scrolled": true
   },
   "outputs": [
    {
     "data": {
      "text/plain": [
       "{}"
      ]
     },
     "execution_count": 41,
     "metadata": {},
     "output_type": "execute_result"
    }
   ],
   "source": [
    "dict()"
   ]
  },
  {
   "cell_type": "code",
   "execution_count": 45,
   "id": "34db16cc",
   "metadata": {},
   "outputs": [
    {
     "data": {
      "text/plain": [
       "{'a': 1, 'b': 2, 'c': 3}"
      ]
     },
     "execution_count": 45,
     "metadata": {},
     "output_type": "execute_result"
    }
   ],
   "source": [
    "dict([('a',1),('b',2)],c=3)"
   ]
  },
  {
   "cell_type": "code",
   "execution_count": 48,
   "id": "601b7889",
   "metadata": {},
   "outputs": [
    {
     "data": {
      "text/plain": [
       "{'a': 1, 'b': 2, 'c': 3}"
      ]
     },
     "execution_count": 48,
     "metadata": {},
     "output_type": "execute_result"
    }
   ],
   "source": [
    "dict(zip(['a','b'],[1,2]),c=3)"
   ]
  },
  {
   "cell_type": "code",
   "execution_count": 49,
   "id": "96bd54bf",
   "metadata": {},
   "outputs": [],
   "source": [
    "dict_comprehension = {k: v for k, v in [('four', 4), ('five', 5)]}\n"
   ]
  },
  {
   "cell_type": "markdown",
   "id": "23c5de43",
   "metadata": {},
   "source": [
    "### 19) dir() : \n",
    "if the object is a module object, the list contains the names of the module’s attributes.\n",
    "\n",
    "If the object is a type or class object, the list contains the names of its attributes, and recursively of the attributes of its bases."
   ]
  },
  {
   "cell_type": "code",
   "execution_count": 1,
   "id": "665d76c0",
   "metadata": {
    "scrolled": true
   },
   "outputs": [
    {
     "data": {
      "text/plain": [
       "['In',\n",
       " 'Out',\n",
       " '_',\n",
       " '__',\n",
       " '___',\n",
       " '__builtin__',\n",
       " '__builtins__',\n",
       " '__doc__',\n",
       " '__loader__',\n",
       " '__name__',\n",
       " '__package__',\n",
       " '__spec__',\n",
       " '_dh',\n",
       " '_i',\n",
       " '_i1',\n",
       " '_ih',\n",
       " '_ii',\n",
       " '_iii',\n",
       " '_oh',\n",
       " 'exit',\n",
       " 'get_ipython',\n",
       " 'open',\n",
       " 'quit']"
      ]
     },
     "execution_count": 1,
     "metadata": {},
     "output_type": "execute_result"
    }
   ],
   "source": [
    "dir()"
   ]
  },
  {
   "cell_type": "code",
   "execution_count": 16,
   "id": "c5441f49",
   "metadata": {},
   "outputs": [
    {
     "name": "stdout",
     "output_type": "stream",
     "text": [
      "Requirement already satisfied: numpy in d:\\applications\\file app\\anconda\\lib\\site-packages (1.24.3)\n"
     ]
    },
    {
     "data": {
      "text/plain": [
       "['ALLOW_THREADS',\n",
       " 'AxisError',\n",
       " 'BUFSIZE',\n",
       " 'CLIP',\n",
       " 'ComplexWarning',\n",
       " 'DataSource',\n",
       " 'ERR_CALL',\n",
       " 'ERR_DEFAULT',\n",
       " 'ERR_IGNORE',\n",
       " 'ERR_LOG',\n",
       " 'ERR_PRINT',\n",
       " 'ERR_RAISE',\n",
       " 'ERR_WARN',\n",
       " 'FLOATING_POINT_SUPPORT',\n",
       " 'FPE_DIVIDEBYZERO',\n",
       " 'FPE_INVALID',\n",
       " 'FPE_OVERFLOW',\n",
       " 'FPE_UNDERFLOW',\n",
       " 'False_',\n",
       " 'Inf',\n",
       " 'Infinity',\n",
       " 'MAXDIMS',\n",
       " 'MAY_SHARE_BOUNDS',\n",
       " 'MAY_SHARE_EXACT',\n",
       " 'ModuleDeprecationWarning',\n",
       " 'NAN',\n",
       " 'NINF',\n",
       " 'NZERO',\n",
       " 'NaN',\n",
       " 'PINF',\n",
       " 'PZERO',\n",
       " 'RAISE',\n",
       " 'RankWarning',\n",
       " 'SHIFT_DIVIDEBYZERO',\n",
       " 'SHIFT_INVALID',\n",
       " 'SHIFT_OVERFLOW',\n",
       " 'SHIFT_UNDERFLOW',\n",
       " 'ScalarType',\n",
       " 'Tester',\n",
       " 'TooHardError',\n",
       " 'True_',\n",
       " 'UFUNC_BUFSIZE_DEFAULT',\n",
       " 'UFUNC_PYVALS_NAME',\n",
       " 'VisibleDeprecationWarning',\n",
       " 'WRAP',\n",
       " '_CopyMode',\n",
       " '_NoValue',\n",
       " '_UFUNC_API',\n",
       " '__NUMPY_SETUP__',\n",
       " '__all__',\n",
       " '__builtins__',\n",
       " '__cached__',\n",
       " '__config__',\n",
       " '__deprecated_attrs__',\n",
       " '__dir__',\n",
       " '__doc__',\n",
       " '__expired_functions__',\n",
       " '__file__',\n",
       " '__former_attrs__',\n",
       " '__future_scalars__',\n",
       " '__getattr__',\n",
       " '__git_version__',\n",
       " '__loader__',\n",
       " '__mkl_version__',\n",
       " '__name__',\n",
       " '__package__',\n",
       " '__path__',\n",
       " '__spec__',\n",
       " '__version__',\n",
       " '_add_newdoc_ufunc',\n",
       " '_builtins',\n",
       " '_distributor_init',\n",
       " '_financial_names',\n",
       " '_get_promotion_state',\n",
       " '_globals',\n",
       " '_int_extended_msg',\n",
       " '_mat',\n",
       " '_no_nep50_warning',\n",
       " '_pyinstaller_hooks_dir',\n",
       " '_pytesttester',\n",
       " '_set_promotion_state',\n",
       " '_specific_msg',\n",
       " '_version',\n",
       " 'abs',\n",
       " 'absolute',\n",
       " 'add',\n",
       " 'add_docstring',\n",
       " 'add_newdoc',\n",
       " 'add_newdoc_ufunc',\n",
       " 'all',\n",
       " 'allclose',\n",
       " 'alltrue',\n",
       " 'amax',\n",
       " 'amin',\n",
       " 'angle',\n",
       " 'any',\n",
       " 'append',\n",
       " 'apply_along_axis',\n",
       " 'apply_over_axes',\n",
       " 'arange',\n",
       " 'arccos',\n",
       " 'arccosh',\n",
       " 'arcsin',\n",
       " 'arcsinh',\n",
       " 'arctan',\n",
       " 'arctan2',\n",
       " 'arctanh',\n",
       " 'argmax',\n",
       " 'argmin',\n",
       " 'argpartition',\n",
       " 'argsort',\n",
       " 'argwhere',\n",
       " 'around',\n",
       " 'array',\n",
       " 'array2string',\n",
       " 'array_equal',\n",
       " 'array_equiv',\n",
       " 'array_repr',\n",
       " 'array_split',\n",
       " 'array_str',\n",
       " 'asanyarray',\n",
       " 'asarray',\n",
       " 'asarray_chkfinite',\n",
       " 'ascontiguousarray',\n",
       " 'asfarray',\n",
       " 'asfortranarray',\n",
       " 'asmatrix',\n",
       " 'atleast_1d',\n",
       " 'atleast_2d',\n",
       " 'atleast_3d',\n",
       " 'average',\n",
       " 'bartlett',\n",
       " 'base_repr',\n",
       " 'binary_repr',\n",
       " 'bincount',\n",
       " 'bitwise_and',\n",
       " 'bitwise_not',\n",
       " 'bitwise_or',\n",
       " 'bitwise_xor',\n",
       " 'blackman',\n",
       " 'block',\n",
       " 'bmat',\n",
       " 'bool_',\n",
       " 'broadcast',\n",
       " 'broadcast_arrays',\n",
       " 'broadcast_shapes',\n",
       " 'broadcast_to',\n",
       " 'busday_count',\n",
       " 'busday_offset',\n",
       " 'busdaycalendar',\n",
       " 'byte',\n",
       " 'byte_bounds',\n",
       " 'bytes_',\n",
       " 'c_',\n",
       " 'can_cast',\n",
       " 'cast',\n",
       " 'cbrt',\n",
       " 'cdouble',\n",
       " 'ceil',\n",
       " 'cfloat',\n",
       " 'char',\n",
       " 'character',\n",
       " 'chararray',\n",
       " 'choose',\n",
       " 'clip',\n",
       " 'clongdouble',\n",
       " 'clongfloat',\n",
       " 'column_stack',\n",
       " 'common_type',\n",
       " 'compare_chararrays',\n",
       " 'compat',\n",
       " 'complex128',\n",
       " 'complex64',\n",
       " 'complex_',\n",
       " 'complexfloating',\n",
       " 'compress',\n",
       " 'concatenate',\n",
       " 'conj',\n",
       " 'conjugate',\n",
       " 'convolve',\n",
       " 'copy',\n",
       " 'copysign',\n",
       " 'copyto',\n",
       " 'corrcoef',\n",
       " 'correlate',\n",
       " 'cos',\n",
       " 'cosh',\n",
       " 'count_nonzero',\n",
       " 'cov',\n",
       " 'cross',\n",
       " 'csingle',\n",
       " 'ctypeslib',\n",
       " 'cumprod',\n",
       " 'cumproduct',\n",
       " 'cumsum',\n",
       " 'datetime64',\n",
       " 'datetime_as_string',\n",
       " 'datetime_data',\n",
       " 'deg2rad',\n",
       " 'degrees',\n",
       " 'delete',\n",
       " 'deprecate',\n",
       " 'deprecate_with_doc',\n",
       " 'diag',\n",
       " 'diag_indices',\n",
       " 'diag_indices_from',\n",
       " 'diagflat',\n",
       " 'diagonal',\n",
       " 'diff',\n",
       " 'digitize',\n",
       " 'disp',\n",
       " 'divide',\n",
       " 'divmod',\n",
       " 'dot',\n",
       " 'double',\n",
       " 'dsplit',\n",
       " 'dstack',\n",
       " 'dtype',\n",
       " 'e',\n",
       " 'ediff1d',\n",
       " 'einsum',\n",
       " 'einsum_path',\n",
       " 'emath',\n",
       " 'empty',\n",
       " 'empty_like',\n",
       " 'equal',\n",
       " 'errstate',\n",
       " 'euler_gamma',\n",
       " 'exp',\n",
       " 'exp2',\n",
       " 'expand_dims',\n",
       " 'expm1',\n",
       " 'expm1x',\n",
       " 'extract',\n",
       " 'eye',\n",
       " 'fabs',\n",
       " 'fastCopyAndTranspose',\n",
       " 'fft',\n",
       " 'fill_diagonal',\n",
       " 'find_common_type',\n",
       " 'finfo',\n",
       " 'fix',\n",
       " 'flatiter',\n",
       " 'flatnonzero',\n",
       " 'flexible',\n",
       " 'flip',\n",
       " 'fliplr',\n",
       " 'flipud',\n",
       " 'float16',\n",
       " 'float32',\n",
       " 'float64',\n",
       " 'float_',\n",
       " 'float_power',\n",
       " 'floating',\n",
       " 'floor',\n",
       " 'floor_divide',\n",
       " 'fmax',\n",
       " 'fmin',\n",
       " 'fmod',\n",
       " 'format_float_positional',\n",
       " 'format_float_scientific',\n",
       " 'format_parser',\n",
       " 'frexp',\n",
       " 'from_dlpack',\n",
       " 'frombuffer',\n",
       " 'fromfile',\n",
       " 'fromfunction',\n",
       " 'fromiter',\n",
       " 'frompyfunc',\n",
       " 'fromregex',\n",
       " 'fromstring',\n",
       " 'full',\n",
       " 'full_like',\n",
       " 'gcd',\n",
       " 'generic',\n",
       " 'genfromtxt',\n",
       " 'geomspace',\n",
       " 'get_array_wrap',\n",
       " 'get_include',\n",
       " 'get_printoptions',\n",
       " 'getbufsize',\n",
       " 'geterr',\n",
       " 'geterrcall',\n",
       " 'geterrobj',\n",
       " 'gradient',\n",
       " 'greater',\n",
       " 'greater_equal',\n",
       " 'half',\n",
       " 'hamming',\n",
       " 'hanning',\n",
       " 'heaviside',\n",
       " 'histogram',\n",
       " 'histogram2d',\n",
       " 'histogram_bin_edges',\n",
       " 'histogramdd',\n",
       " 'hsplit',\n",
       " 'hstack',\n",
       " 'hypot',\n",
       " 'i0',\n",
       " 'identity',\n",
       " 'iinfo',\n",
       " 'imag',\n",
       " 'in1d',\n",
       " 'index_exp',\n",
       " 'indices',\n",
       " 'inexact',\n",
       " 'inf',\n",
       " 'info',\n",
       " 'infty',\n",
       " 'inner',\n",
       " 'insert',\n",
       " 'int16',\n",
       " 'int32',\n",
       " 'int64',\n",
       " 'int8',\n",
       " 'int_',\n",
       " 'intc',\n",
       " 'integer',\n",
       " 'interp',\n",
       " 'intersect1d',\n",
       " 'intp',\n",
       " 'invert',\n",
       " 'is_busday',\n",
       " 'isclose',\n",
       " 'iscomplex',\n",
       " 'iscomplexobj',\n",
       " 'isfinite',\n",
       " 'isfortran',\n",
       " 'isin',\n",
       " 'isinf',\n",
       " 'isnan',\n",
       " 'isnat',\n",
       " 'isneginf',\n",
       " 'isposinf',\n",
       " 'isreal',\n",
       " 'isrealobj',\n",
       " 'isscalar',\n",
       " 'issctype',\n",
       " 'issubclass_',\n",
       " 'issubdtype',\n",
       " 'issubsctype',\n",
       " 'iterable',\n",
       " 'ix_',\n",
       " 'kaiser',\n",
       " 'kron',\n",
       " 'lcm',\n",
       " 'ldexp',\n",
       " 'left_shift',\n",
       " 'less',\n",
       " 'less_equal',\n",
       " 'lexsort',\n",
       " 'lib',\n",
       " 'linalg',\n",
       " 'linspace',\n",
       " 'little_endian',\n",
       " 'load',\n",
       " 'loadtxt',\n",
       " 'log',\n",
       " 'log10',\n",
       " 'log1p',\n",
       " 'log2',\n",
       " 'logaddexp',\n",
       " 'logaddexp2',\n",
       " 'logical_and',\n",
       " 'logical_not',\n",
       " 'logical_or',\n",
       " 'logical_xor',\n",
       " 'logspace',\n",
       " 'longcomplex',\n",
       " 'longdouble',\n",
       " 'longfloat',\n",
       " 'longlong',\n",
       " 'lookfor',\n",
       " 'ma',\n",
       " 'mask_indices',\n",
       " 'mat',\n",
       " 'math',\n",
       " 'matmul',\n",
       " 'matrix',\n",
       " 'max',\n",
       " 'maximum',\n",
       " 'maximum_sctype',\n",
       " 'may_share_memory',\n",
       " 'mean',\n",
       " 'median',\n",
       " 'memmap',\n",
       " 'meshgrid',\n",
       " 'mgrid',\n",
       " 'min',\n",
       " 'min_scalar_type',\n",
       " 'minimum',\n",
       " 'mintypecode',\n",
       " 'mkl',\n",
       " 'mod',\n",
       " 'modf',\n",
       " 'moveaxis',\n",
       " 'msort',\n",
       " 'multiply',\n",
       " 'nan',\n",
       " 'nan_to_num',\n",
       " 'nanargmax',\n",
       " 'nanargmin',\n",
       " 'nancumprod',\n",
       " 'nancumsum',\n",
       " 'nanmax',\n",
       " 'nanmean',\n",
       " 'nanmedian',\n",
       " 'nanmin',\n",
       " 'nanpercentile',\n",
       " 'nanprod',\n",
       " 'nanquantile',\n",
       " 'nanstd',\n",
       " 'nansum',\n",
       " 'nanvar',\n",
       " 'nbytes',\n",
       " 'ndarray',\n",
       " 'ndenumerate',\n",
       " 'ndim',\n",
       " 'ndindex',\n",
       " 'nditer',\n",
       " 'negative',\n",
       " 'nested_iters',\n",
       " 'newaxis',\n",
       " 'nextafter',\n",
       " 'nonzero',\n",
       " 'not_equal',\n",
       " 'numarray',\n",
       " 'number',\n",
       " 'obj2sctype',\n",
       " 'object_',\n",
       " 'ogrid',\n",
       " 'oldnumeric',\n",
       " 'ones',\n",
       " 'ones_like',\n",
       " 'outer',\n",
       " 'packbits',\n",
       " 'pad',\n",
       " 'partition',\n",
       " 'percentile',\n",
       " 'pi',\n",
       " 'piecewise',\n",
       " 'place',\n",
       " 'poly',\n",
       " 'poly1d',\n",
       " 'polyadd',\n",
       " 'polyder',\n",
       " 'polydiv',\n",
       " 'polyfit',\n",
       " 'polyint',\n",
       " 'polymul',\n",
       " 'polynomial',\n",
       " 'polysub',\n",
       " 'polyval',\n",
       " 'positive',\n",
       " 'power',\n",
       " 'printoptions',\n",
       " 'prod',\n",
       " 'product',\n",
       " 'promote_types',\n",
       " 'ptp',\n",
       " 'put',\n",
       " 'put_along_axis',\n",
       " 'putmask',\n",
       " 'quantile',\n",
       " 'r_',\n",
       " 'rad2deg',\n",
       " 'radians',\n",
       " 'random',\n",
       " 'ravel',\n",
       " 'ravel_multi_index',\n",
       " 'real',\n",
       " 'real_if_close',\n",
       " 'rec',\n",
       " 'recarray',\n",
       " 'recfromcsv',\n",
       " 'recfromtxt',\n",
       " 'reciprocal',\n",
       " 'record',\n",
       " 'remainder',\n",
       " 'repeat',\n",
       " 'require',\n",
       " 'reshape',\n",
       " 'resize',\n",
       " 'result_type',\n",
       " 'right_shift',\n",
       " 'rint',\n",
       " 'roll',\n",
       " 'rollaxis',\n",
       " 'roots',\n",
       " 'rot90',\n",
       " 'round',\n",
       " 'round_',\n",
       " 'row_stack',\n",
       " 's_',\n",
       " 'safe_eval',\n",
       " 'save',\n",
       " 'savetxt',\n",
       " 'savez',\n",
       " 'savez_compressed',\n",
       " 'sctype2char',\n",
       " 'sctypeDict',\n",
       " 'sctypes',\n",
       " 'searchsorted',\n",
       " 'select',\n",
       " 'set_numeric_ops',\n",
       " 'set_printoptions',\n",
       " 'set_string_function',\n",
       " 'setbufsize',\n",
       " 'setdiff1d',\n",
       " 'seterr',\n",
       " 'seterrcall',\n",
       " 'seterrobj',\n",
       " 'setxor1d',\n",
       " 'shape',\n",
       " 'shares_memory',\n",
       " 'short',\n",
       " 'show_config',\n",
       " 'show_runtime',\n",
       " 'sign',\n",
       " 'signbit',\n",
       " 'signedinteger',\n",
       " 'sin',\n",
       " 'sinc',\n",
       " 'single',\n",
       " 'singlecomplex',\n",
       " 'sinh',\n",
       " 'size',\n",
       " 'sometrue',\n",
       " 'sort',\n",
       " 'sort_complex',\n",
       " 'source',\n",
       " 'spacing',\n",
       " 'split',\n",
       " 'sqrt',\n",
       " 'square',\n",
       " 'squeeze',\n",
       " 'stack',\n",
       " 'std',\n",
       " 'str_',\n",
       " 'string_',\n",
       " 'subtract',\n",
       " 'sum',\n",
       " 'swapaxes',\n",
       " 'take',\n",
       " 'take_along_axis',\n",
       " 'tan',\n",
       " 'tanh',\n",
       " 'tensordot',\n",
       " 'test',\n",
       " 'testing',\n",
       " 'tile',\n",
       " 'timedelta64',\n",
       " 'trace',\n",
       " 'tracemalloc_domain',\n",
       " 'transpose',\n",
       " 'trapz',\n",
       " 'tri',\n",
       " 'tril',\n",
       " 'tril_indices',\n",
       " 'tril_indices_from',\n",
       " 'trim_zeros',\n",
       " 'triu',\n",
       " 'triu_indices',\n",
       " 'triu_indices_from',\n",
       " 'true_divide',\n",
       " 'trunc',\n",
       " 'typecodes',\n",
       " 'typename',\n",
       " 'ubyte',\n",
       " 'ufunc',\n",
       " 'uint',\n",
       " 'uint16',\n",
       " 'uint32',\n",
       " 'uint64',\n",
       " 'uint8',\n",
       " 'uintc',\n",
       " 'uintp',\n",
       " 'ulonglong',\n",
       " 'unicode_',\n",
       " 'union1d',\n",
       " 'unique',\n",
       " 'unpackbits',\n",
       " 'unravel_index',\n",
       " 'unsignedinteger',\n",
       " 'unwrap',\n",
       " 'use_hugepage',\n",
       " 'ushort',\n",
       " 'vander',\n",
       " 'var',\n",
       " 'vdot',\n",
       " 'vectorize',\n",
       " 'version',\n",
       " 'void',\n",
       " 'vsplit',\n",
       " 'vstack',\n",
       " 'where',\n",
       " 'who',\n",
       " 'zeros',\n",
       " 'zeros_like']"
      ]
     },
     "execution_count": 16,
     "metadata": {},
     "output_type": "execute_result"
    }
   ],
   "source": [
    "!pip install numpy\n",
    "import numpy as np\n",
    "dir(np)"
   ]
  },
  {
   "cell_type": "markdown",
   "id": "5cd66175",
   "metadata": {},
   "source": [
    "### 20) divmod()\n",
    "\n",
    "return a pair of numbers consisting of their quotient and remainder when using integer division"
   ]
  },
  {
   "cell_type": "code",
   "execution_count": 19,
   "id": "d7636324",
   "metadata": {},
   "outputs": [
    {
     "name": "stdout",
     "output_type": "stream",
     "text": [
      "(5, 0)\n",
      "(3, 1)\n"
     ]
    }
   ],
   "source": [
    "print(divmod(10,2))\n",
    "print(divmod(10,3))"
   ]
  },
  {
   "cell_type": "markdown",
   "id": "cc094c73",
   "metadata": {},
   "source": [
    "### 21) enumerate()\n",
    "\n",
    "`enumerate(iterable, start=0)`"
   ]
  },
  {
   "cell_type": "code",
   "execution_count": 20,
   "id": "7ec6cf4d",
   "metadata": {},
   "outputs": [],
   "source": [
    "countries = ['moroco','france','usa','algeria','moritania']"
   ]
  },
  {
   "cell_type": "code",
   "execution_count": 21,
   "id": "2002d933",
   "metadata": {},
   "outputs": [
    {
     "data": {
      "text/plain": [
       "[(0, 'moroco'), (1, 'france'), (2, 'usa'), (3, 'algeria'), (4, 'moritania')]"
      ]
     },
     "execution_count": 21,
     "metadata": {},
     "output_type": "execute_result"
    }
   ],
   "source": [
    "list(enumerate(countries))"
   ]
  },
  {
   "cell_type": "code",
   "execution_count": 22,
   "id": "030cf4fb",
   "metadata": {},
   "outputs": [
    {
     "data": {
      "text/plain": [
       "{0: 'moroco', 1: 'france', 2: 'usa', 3: 'algeria', 4: 'moritania'}"
      ]
     },
     "execution_count": 22,
     "metadata": {},
     "output_type": "execute_result"
    }
   ],
   "source": [
    "dict(enumerate(countries))"
   ]
  },
  {
   "cell_type": "code",
   "execution_count": 25,
   "id": "b6d0fb70",
   "metadata": {},
   "outputs": [
    {
     "name": "stdout",
     "output_type": "stream",
     "text": [
      "5 moroco\n",
      "6 france\n",
      "7 usa\n",
      "8 algeria\n",
      "9 moritania\n"
     ]
    }
   ],
   "source": [
    "for i ,j in enumerate(countries,5):\n",
    "    print(i,j)"
   ]
  },
  {
   "cell_type": "markdown",
   "id": "ce52e162",
   "metadata": {},
   "source": [
    "### 22) filter(function, iterable)"
   ]
  },
  {
   "cell_type": "code",
   "execution_count": 30,
   "id": "ac5a4fa4",
   "metadata": {},
   "outputs": [
    {
     "name": "stdout",
     "output_type": "stream",
     "text": [
      "<filter object at 0x000001DFE7928FD0>\n",
      "[2, 4, 6]\n"
     ]
    }
   ],
   "source": [
    "even_numbers = filter(lambda x: x%2 == 0,[1,2,3,4,5,6])\n",
    "print(even_numbers)\n",
    "print(list(even_numbers))"
   ]
  },
  {
   "cell_type": "markdown",
   "id": "91228630",
   "metadata": {},
   "source": [
    "### 23) float(): converts a string or a number to a floating point number"
   ]
  },
  {
   "cell_type": "code",
   "execution_count": 36,
   "id": "0ca49a25",
   "metadata": {},
   "outputs": [
    {
     "name": "stdout",
     "output_type": "stream",
     "text": [
      "10.4\n",
      "10.0\n",
      "inf\n"
     ]
    }
   ],
   "source": [
    "print(float(\"10.4\"))\n",
    "print(float(10))\n",
    "print(float(\"inf\"))"
   ]
  },
  {
   "cell_type": "markdown",
   "id": "de017d03",
   "metadata": {},
   "source": [
    "### 24) format(value, format_spec='') "
   ]
  },
  {
   "cell_type": "code",
   "execution_count": 37,
   "id": "104f5920",
   "metadata": {},
   "outputs": [
    {
     "data": {
      "text/plain": [
       "'5'"
      ]
     },
     "execution_count": 37,
     "metadata": {},
     "output_type": "execute_result"
    }
   ],
   "source": [
    "format(5,)"
   ]
  },
  {
   "cell_type": "code",
   "execution_count": 39,
   "id": "69c1f359",
   "metadata": {},
   "outputs": [
    {
     "data": {
      "text/plain": [
       "str"
      ]
     },
     "execution_count": 39,
     "metadata": {},
     "output_type": "execute_result"
    }
   ],
   "source": [
    "type(format(int(5),))"
   ]
  },
  {
   "cell_type": "code",
   "execution_count": 49,
   "id": "e3e9e8ff",
   "metadata": {},
   "outputs": [
    {
     "name": "stdout",
     "output_type": "stream",
     "text": [
      "5.0\n",
      "500.00%\n",
      "5.23e+00\n"
     ]
    }
   ],
   "source": [
    "print(format(5,\".1f\"))\n",
    "print(format(5,\".2%\"))\n",
    "print(format(5.234444,\".2e\"))"
   ]
  },
  {
   "cell_type": "markdown",
   "id": "1ca5882f",
   "metadata": {},
   "source": [
    "###  25) str.format()"
   ]
  },
  {
   "cell_type": "code",
   "execution_count": 52,
   "id": "fc63a88e",
   "metadata": {},
   "outputs": [
    {
     "data": {
      "text/plain": [
       "'The sum of 1 + 2 is 3'"
      ]
     },
     "execution_count": 52,
     "metadata": {},
     "output_type": "execute_result"
    }
   ],
   "source": [
    "\"The sum of {} + {} is {}\".format(1,2,1+2)"
   ]
  },
  {
   "cell_type": "markdown",
   "id": "70d8fde2",
   "metadata": {},
   "source": [
    "### 26) set()\n",
    "### 27) frozenset()\n",
    "are built-in data types that are used to store collections of unique elements<br>\n",
    "`set `is mutable, meaning that you can add or remove elements from a set after it has been created.<br>\n",
    "`frozenset` is immutable, meaning that after it is created, it cannot be altered. A frozenset is hashable and can be used as a key in a dictionary or as an element of another set, which is not possible with a mutable set"
   ]
  },
  {
   "cell_type": "code",
   "execution_count": 55,
   "id": "a5f236b9",
   "metadata": {},
   "outputs": [
    {
     "name": "stdout",
     "output_type": "stream",
     "text": [
      "{1, 2, 3, 4}\n",
      "'frozenset' object has no attribute 'add'\n"
     ]
    }
   ],
   "source": [
    "\n",
    "s = set([1, 2, 3])\n",
    "s.add(4)  \n",
    "print(s)  \n",
    "\n",
    "fs = frozenset([1, 2, 3])\n",
    "try:\n",
    "    fs.add(4)  \n",
    "except AttributeError as e:\n",
    "    print(e)  "
   ]
  },
  {
   "cell_type": "code",
   "execution_count": 59,
   "id": "24581e81",
   "metadata": {},
   "outputs": [
    {
     "name": "stdout",
     "output_type": "stream",
     "text": [
      "{1, 2}\n",
      "frozenset({1, 2, 3, 4})\n"
     ]
    }
   ],
   "source": [
    "a = set([1,2])\n",
    "print(a)\n",
    "b= frozenset([1,2,3,4])\n",
    "print(b)"
   ]
  },
  {
   "cell_type": "code",
   "execution_count": 63,
   "id": "23773bf0",
   "metadata": {
    "scrolled": true
   },
   "outputs": [
    {
     "data": {
      "text/plain": [
       "{1, 2, frozenset({2})}"
      ]
     },
     "execution_count": 63,
     "metadata": {},
     "output_type": "execute_result"
    }
   ],
   "source": [
    "#a = set([1,2,3,set([5])]) # error unhashable\n",
    "b= set([1,2,frozenset([2])])\n",
    "b"
   ]
  },
  {
   "cell_type": "markdown",
   "id": "0e470432",
   "metadata": {},
   "source": [
    "### 28)getattr(object, name[, default]): Returns the value of the named attribute of an object"
   ]
  },
  {
   "cell_type": "code",
   "execution_count": 70,
   "id": "ace8413f",
   "metadata": {
    "scrolled": false
   },
   "outputs": [
    {
     "name": "stdout",
     "output_type": "stream",
     "text": [
      "attribute\n",
      "NONE\n"
     ]
    }
   ],
   "source": [
    "class Example:\n",
    "    a = 'attribute'\n",
    "print(getattr(Example, 'a'))# Output: 'attribute'\n",
    "print(getattr(Example, 'ff',\"NONE\"))  \n"
   ]
  },
  {
   "cell_type": "markdown",
   "id": "09685799",
   "metadata": {},
   "source": [
    "### 29) globals()"
   ]
  },
  {
   "cell_type": "code",
   "execution_count": 79,
   "id": "30c483dc",
   "metadata": {
    "scrolled": false
   },
   "outputs": [
    {
     "data": {
      "text/plain": [
       "{1, 2, 3, 4}"
      ]
     },
     "execution_count": 79,
     "metadata": {},
     "output_type": "execute_result"
    }
   ],
   "source": [
    "a= 1\n",
    "b=2\n",
    "#globals()  # Output: dictionary with all global variables\n",
    "globals()['s'] \n"
   ]
  },
  {
   "cell_type": "markdown",
   "id": "373f92e3",
   "metadata": {},
   "source": [
    "### hasattr(object, name): Checks if an object has an attribute."
   ]
  },
  {
   "cell_type": "code",
   "execution_count": 80,
   "id": "aac28fa1",
   "metadata": {
    "scrolled": true
   },
   "outputs": [
    {
     "data": {
      "text/plain": [
       "True"
      ]
     },
     "execution_count": 80,
     "metadata": {},
     "output_type": "execute_result"
    }
   ],
   "source": [
    "hasattr(Example, 'a')  # Output: True\n"
   ]
  },
  {
   "cell_type": "markdown",
   "id": "dc0936de",
   "metadata": {},
   "source": [
    "### help([object]): Invokes the built-in help system. Example (use this in a Python shell or script):"
   ]
  },
  {
   "cell_type": "code",
   "execution_count": 82,
   "id": "72bf325a",
   "metadata": {},
   "outputs": [],
   "source": [
    "###help(str)  # Displays the help page for the 'str' class\n"
   ]
  },
  {
   "cell_type": "markdown",
   "id": "36c36f4b",
   "metadata": {},
   "source": [
    "### hex(x): Converts an integer number to a lowercase hexadecimal string prefixed with \"0x\""
   ]
  },
  {
   "cell_type": "code",
   "execution_count": 83,
   "id": "abf0d2d6",
   "metadata": {},
   "outputs": [
    {
     "data": {
      "text/plain": [
       "'0xff'"
      ]
     },
     "execution_count": 83,
     "metadata": {},
     "output_type": "execute_result"
    }
   ],
   "source": [
    "hex(255)  # Output: '0xff'\n"
   ]
  },
  {
   "cell_type": "markdown",
   "id": "9f228d2c",
   "metadata": {},
   "source": [
    "### id(object): Returns the identity of an object.\n",
    "return the location of the object in memory"
   ]
  },
  {
   "cell_type": "code",
   "execution_count": 89,
   "id": "9f243d08",
   "metadata": {},
   "outputs": [
    {
     "data": {
      "text/plain": [
       "140725168913648"
      ]
     },
     "execution_count": 89,
     "metadata": {},
     "output_type": "execute_result"
    }
   ],
   "source": [
    "id(\"3\")  # Output: a unique integer for the object 3 (can vary)\n"
   ]
  },
  {
   "cell_type": "code",
   "execution_count": 91,
   "id": "2fad9341",
   "metadata": {},
   "outputs": [
    {
     "data": {
      "text/plain": [
       "(140725168870184, 140725168870184)"
      ]
     },
     "execution_count": 91,
     "metadata": {},
     "output_type": "execute_result"
    }
   ],
   "source": [
    "a = 1\n",
    "b = 1\n",
    "id(a),id(b) # if a=123 and b=123 than the id of a is not the same of b\n",
    "# also for a list of a dict "
   ]
  },
  {
   "cell_type": "markdown",
   "id": "73571879",
   "metadata": {},
   "source": [
    "### input([prompt]): Reads a line from input, converts it to a string (stripping a trailing newline), and returns that"
   ]
  },
  {
   "cell_type": "code",
   "execution_count": 92,
   "id": "0dd1fbcd",
   "metadata": {
    "scrolled": true
   },
   "outputs": [
    {
     "name": "stdout",
     "output_type": "stream",
     "text": [
      "Enter your name: hassane\n",
      "hassane\n"
     ]
    }
   ],
   "source": [
    "name = input('Enter your name: ')\n",
    "print(name)"
   ]
  },
  {
   "cell_type": "markdown",
   "id": "553495ca",
   "metadata": {},
   "source": [
    "### int([x[, base]]): Converts a number or string to an integer, or return 0 if no arguments are given"
   ]
  },
  {
   "cell_type": "code",
   "execution_count": 94,
   "id": "c1b1bf1f",
   "metadata": {},
   "outputs": [
    {
     "name": "stdout",
     "output_type": "stream",
     "text": [
      "1\n",
      "4\n",
      "5\n",
      "<class 'int'>\n"
     ]
    }
   ],
   "source": [
    "print(int('1'))\n",
    "print(int(4))\n",
    "print(int(5.3))\n",
    "print(type(int(2)))"
   ]
  },
  {
   "cell_type": "markdown",
   "id": "67c25753",
   "metadata": {},
   "source": [
    "### isinstance(object, classinfo): Checks if the object argument is an instance of classinfo"
   ]
  },
  {
   "cell_type": "code",
   "execution_count": 97,
   "id": "53653d90",
   "metadata": {},
   "outputs": [
    {
     "name": "stdout",
     "output_type": "stream",
     "text": [
      "True\n",
      "False\n"
     ]
    }
   ],
   "source": [
    "print(isinstance(5, int))  # Output: True\n",
    "print(isinstance(2,bool))"
   ]
  },
  {
   "cell_type": "markdown",
   "id": "ebe753bd",
   "metadata": {},
   "source": [
    "### issubclass(class, classinfo): Checks if class is a subclass of classinfo. "
   ]
  },
  {
   "cell_type": "code",
   "execution_count": 103,
   "id": "5dfc6ba7",
   "metadata": {},
   "outputs": [
    {
     "name": "stdout",
     "output_type": "stream",
     "text": [
      "True\n",
      "False\n",
      "False\n"
     ]
    }
   ],
   "source": [
    "print(issubclass(bool, int))  # Output: True\n",
    "print(issubclass(int,bool)) \n",
    "print(issubclass(int,float)) "
   ]
  },
  {
   "cell_type": "code",
   "execution_count": 110,
   "id": "8861e913",
   "metadata": {},
   "outputs": [
    {
     "name": "stdout",
     "output_type": "stream",
     "text": [
      "True\n",
      "True\n",
      "True\n"
     ]
    }
   ],
   "source": [
    "class Car:\n",
    "    pass\n",
    "class Buggati(Car):\n",
    "    pass\n",
    "class BuggatiVeryron(Buggati):\n",
    "    pass\n",
    "print(issubclass(Buggati,(Car,int ,str)))\n",
    "print(issubclass(Car,Car))\n",
    "print(issubclass(BuggatiVeryron,Car))"
   ]
  },
  {
   "cell_type": "markdown",
   "id": "e787c4f5",
   "metadata": {},
   "source": [
    "### iter(iterable[, sentinel]): Returns an iterator from an iterable. \n",
    "\n",
    "### next(iterator) Retrieves the next item from the iterator."
   ]
  },
  {
   "cell_type": "code",
   "execution_count": 29,
   "id": "217e7fa3",
   "metadata": {},
   "outputs": [
    {
     "name": "stdout",
     "output_type": "stream",
     "text": [
      "<list_iterator object at 0x0000026CCB04A6B0>\n"
     ]
    }
   ],
   "source": [
    "print(iter([1,2,3]))"
   ]
  },
  {
   "cell_type": "code",
   "execution_count": 119,
   "id": "1c524c2c",
   "metadata": {},
   "outputs": [
    {
     "name": "stdout",
     "output_type": "stream",
     "text": [
      "hey\n",
      "python\n",
      "C++\n",
      "C\n"
     ]
    }
   ],
   "source": [
    "a = iter(['hey','python','C++','C'])\n",
    "print(next(a))\n",
    "print(next(a))\n",
    "print(next(a))\n",
    "print(next(a))"
   ]
  },
  {
   "cell_type": "code",
   "execution_count": 125,
   "id": "637be878",
   "metadata": {
    "scrolled": true
   },
   "outputs": [
    {
     "name": "stdout",
     "output_type": "stream",
     "text": [
      "3\n",
      "4\n",
      "3\n",
      "a! <callable_iterator object at 0x000001DFE7928640>\n"
     ]
    }
   ],
   "source": [
    "import random\n",
    "def x():\n",
    "    return random.randrange(1,10)\n",
    "a = iter(x,5)\n",
    "while True:\n",
    "    try:\n",
    "        print (next(a))\n",
    "    except:\n",
    "        print(\"a!\",a)\n",
    "        break"
   ]
  },
  {
   "cell_type": "markdown",
   "id": "7fa42e8e",
   "metadata": {},
   "source": [
    "### len(s): Returns the length (the number of items) of an object."
   ]
  },
  {
   "cell_type": "code",
   "execution_count": 127,
   "id": "798f0a3d",
   "metadata": {},
   "outputs": [
    {
     "name": "stdout",
     "output_type": "stream",
     "text": [
      "3\n",
      "2\n"
     ]
    }
   ],
   "source": [
    "print(len([1, 2, 3])) \n",
    "print(len({0:\"je\",1:\"kjsj\"}))"
   ]
  },
  {
   "cell_type": "markdown",
   "id": "07854dc4",
   "metadata": {},
   "source": [
    "### list(iterable): Creates a list from an iterable."
   ]
  },
  {
   "cell_type": "code",
   "execution_count": 135,
   "id": "bfccb85e",
   "metadata": {
    "scrolled": false
   },
   "outputs": [
    {
     "name": "stdout",
     "output_type": "stream",
     "text": [
      "['a', 'b', 'c']\n",
      "[1, 2, 3]\n",
      "[(1, 'hassane'), (2, 'hi')]\n"
     ]
    }
   ],
   "source": [
    "print(list('abc'))\n",
    "print(list([1,2,3]))\n",
    "print(list(zip([1,2],[\"hassane\",'hi'])))"
   ]
  },
  {
   "cell_type": "markdown",
   "id": "59b2822b",
   "metadata": {},
   "source": [
    "### locals() Returns a dictionary with the current local symbol table."
   ]
  },
  {
   "cell_type": "code",
   "execution_count": 6,
   "id": "86404b81",
   "metadata": {},
   "outputs": [
    {
     "name": "stdout",
     "output_type": "stream",
     "text": [
      "{'width': 10, 'height': 20, 'area': 200}\n"
     ]
    }
   ],
   "source": [
    "def calculate_area(width, height):\n",
    "    area = width * height\n",
    "    return locals()\n",
    "\n",
    "# When you call the function:\n",
    "result = calculate_area(10, 20)\n",
    "print(result)\n"
   ]
  },
  {
   "cell_type": "markdown",
   "id": "661f957e",
   "metadata": {},
   "source": [
    "###  map(function, iterable, ...): Applies a function to every item of an iterable and returns a map object."
   ]
  },
  {
   "cell_type": "code",
   "execution_count": 8,
   "id": "9c3f5c5c",
   "metadata": {},
   "outputs": [
    {
     "data": {
      "text/plain": [
       "['1', '2', '3']"
      ]
     },
     "execution_count": 8,
     "metadata": {},
     "output_type": "execute_result"
    }
   ],
   "source": [
    "list(map(str, [1, 2, 3]) )\n"
   ]
  },
  {
   "cell_type": "code",
   "execution_count": 10,
   "id": "4d2b0729",
   "metadata": {},
   "outputs": [
    {
     "name": "stdout",
     "output_type": "stream",
     "text": [
      "[1, 4, 9, 16, 25]\n"
     ]
    }
   ],
   "source": [
    "def square(number):\n",
    "    return number ** 2\n",
    "numbers = [1, 2, 3, 4, 5]\n",
    "squared_numbers = map(square, numbers) \n",
    "print(list(squared_numbers))"
   ]
  },
  {
   "cell_type": "code",
   "execution_count": 14,
   "id": "94d8e83d",
   "metadata": {},
   "outputs": [
    {
     "name": "stdout",
     "output_type": "stream",
     "text": [
      "[1, 4, 9, 16, 25]\n"
     ]
    }
   ],
   "source": [
    "print(list(map(lambda x : x**2,numbers)))"
   ]
  },
  {
   "cell_type": "markdown",
   "id": "aacb3608",
   "metadata": {},
   "source": [
    "### max(iterable, *[, key, default]):\n",
    "Returns the largest item in an iterable.\n",
    "### VS min()\n",
    "\n",
    "### pow(x,y)"
   ]
  },
  {
   "cell_type": "code",
   "execution_count": 15,
   "id": "628491b2",
   "metadata": {},
   "outputs": [
    {
     "data": {
      "text/plain": [
       "3"
      ]
     },
     "execution_count": 15,
     "metadata": {},
     "output_type": "execute_result"
    }
   ],
   "source": [
    "max([1,2,3])"
   ]
  },
  {
   "cell_type": "code",
   "execution_count": 16,
   "id": "86c14e32",
   "metadata": {},
   "outputs": [
    {
     "name": "stdout",
     "output_type": "stream",
     "text": [
      "banana\n"
     ]
    }
   ],
   "source": [
    "words = [\"apple\", \"banana\", \"cherry\", \"date\"]\n",
    "print(max(words, key=len))  "
   ]
  },
  {
   "cell_type": "code",
   "execution_count": 18,
   "id": "4136be99",
   "metadata": {},
   "outputs": [
    {
     "name": "stdout",
     "output_type": "stream",
     "text": [
      "[20, 30, 2]\n"
     ]
    }
   ],
   "source": [
    "import numpy as np\n",
    "means = [[1,2,3],[20,30,2],[3,3,2]]\n",
    "print(max(means,key=np.mean))"
   ]
  },
  {
   "cell_type": "code",
   "execution_count": 19,
   "id": "dc26eb06",
   "metadata": {},
   "outputs": [
    {
     "name": "stdout",
     "output_type": "stream",
     "text": [
      "{'name': 'cherry', 'price': 3.25}\n"
     ]
    }
   ],
   "source": [
    "products = [\n",
    "    {\"name\": \"apple\", \"price\": 0.95},\n",
    "    {\"name\": \"banana\", \"price\": 0.50},\n",
    "    {\"name\": \"cherry\", \"price\": 3.25}\n",
    "]\n",
    "print(max(products, key=lambda x: x[\"price\"])) "
   ]
  },
  {
   "cell_type": "code",
   "execution_count": 34,
   "id": "085af14c",
   "metadata": {},
   "outputs": [
    {
     "data": {
      "text/plain": [
       "8"
      ]
     },
     "execution_count": 34,
     "metadata": {},
     "output_type": "execute_result"
    }
   ],
   "source": [
    "pow(2,3)"
   ]
  },
  {
   "cell_type": "markdown",
   "id": "9e70ac09",
   "metadata": {},
   "source": [
    "### memoryview(obj): Returns a memory view object from the given argument."
   ]
  },
  {
   "cell_type": "code",
   "execution_count": 27,
   "id": "f14e7863",
   "metadata": {},
   "outputs": [
    {
     "name": "stdout",
     "output_type": "stream",
     "text": [
      "<memory at 0x0000026CCA7A9F00>\n",
      "[104, 101, 121]\n"
     ]
    }
   ],
   "source": [
    "a = b'hey'\n",
    "h=memoryview(a)\n",
    "print(h)\n",
    "print(h.tolist())"
   ]
  },
  {
   "cell_type": "markdown",
   "id": "bb5fca48",
   "metadata": {},
   "source": [
    "###  oct(x): Converts an integer to an octal string.\n",
    "\n",
    "### ord(c): Converts a character into its Unicode code point."
   ]
  },
  {
   "cell_type": "code",
   "execution_count": 30,
   "id": "99cdf052",
   "metadata": {},
   "outputs": [
    {
     "data": {
      "text/plain": [
       "'0o10'"
      ]
     },
     "execution_count": 30,
     "metadata": {},
     "output_type": "execute_result"
    }
   ],
   "source": [
    "oct(8)"
   ]
  },
  {
   "cell_type": "code",
   "execution_count": 32,
   "id": "a3704f24",
   "metadata": {},
   "outputs": [
    {
     "data": {
      "text/plain": [
       "97"
      ]
     },
     "execution_count": 32,
     "metadata": {},
     "output_type": "execute_result"
    }
   ],
   "source": [
    "ord('a') "
   ]
  },
  {
   "cell_type": "markdown",
   "id": "dd05e986",
   "metadata": {},
   "source": [
    "### open(file, mode='r', buffering=-1, ...): Opens a file and returns a corresponding file object.\n",
    "\n",
    "### write() and close()"
   ]
  },
  {
   "cell_type": "code",
   "execution_count": 33,
   "id": "51fff2f3",
   "metadata": {},
   "outputs": [],
   "source": [
    "# f = open('myfile.txt', 'w')\n",
    "# f.write('Hello, world!')\n",
    "# f.close()\n"
   ]
  },
  {
   "cell_type": "markdown",
   "id": "d1e81fa5",
   "metadata": {},
   "source": [
    "### range(start, stop[, step]): Returns an immutable sequence of numbers between the start and the stop with the specific step."
   ]
  },
  {
   "cell_type": "code",
   "execution_count": 43,
   "id": "eae41524",
   "metadata": {
    "scrolled": true
   },
   "outputs": [
    {
     "name": "stdout",
     "output_type": "stream",
     "text": [
      "[1, 3, 5, 7, 9]\n"
     ]
    }
   ],
   "source": [
    "print(list(range(1,10,2)))"
   ]
  },
  {
   "cell_type": "markdown",
   "id": "48091020",
   "metadata": {},
   "source": [
    "### reversed(seq): Returns a reverse iterator over a sequence."
   ]
  },
  {
   "cell_type": "code",
   "execution_count": 44,
   "id": "a5b17b6a",
   "metadata": {
    "scrolled": true
   },
   "outputs": [
    {
     "data": {
      "text/plain": [
       "[3, 2, 1]"
      ]
     },
     "execution_count": 44,
     "metadata": {},
     "output_type": "execute_result"
    }
   ],
   "source": [
    "list(reversed([1, 2, 3])) "
   ]
  },
  {
   "cell_type": "markdown",
   "id": "e6227f60",
   "metadata": {},
   "source": [
    "### round(number[, ndigits]): Rounds a floating-point number to a specified number of decimal places."
   ]
  },
  {
   "cell_type": "code",
   "execution_count": 45,
   "id": "894d9f77",
   "metadata": {
    "scrolled": true
   },
   "outputs": [
    {
     "data": {
      "text/plain": [
       "3.14"
      ]
     },
     "execution_count": 45,
     "metadata": {},
     "output_type": "execute_result"
    }
   ],
   "source": [
    "round(3.14159, 2) "
   ]
  },
  {
   "cell_type": "code",
   "execution_count": 47,
   "id": "6c8dae0e",
   "metadata": {
    "scrolled": true
   },
   "outputs": [
    {
     "name": "stdout",
     "output_type": "stream",
     "text": [
      "<class 'tuple'>\n",
      "<class 'set'>\n"
     ]
    }
   ],
   "source": [
    "a = (3,3)\n",
    "b= set([1,2])\n",
    "print(type(a))\n",
    "print(type(b))"
   ]
  },
  {
   "cell_type": "markdown",
   "id": "0eee1c2f",
   "metadata": {},
   "source": [
    "### etattr(object, name, value): Sets the value of the attribute of an object."
   ]
  },
  {
   "cell_type": "code",
   "execution_count": 48,
   "id": "4060be77",
   "metadata": {},
   "outputs": [
    {
     "data": {
      "text/plain": [
       "100"
      ]
     },
     "execution_count": 48,
     "metadata": {},
     "output_type": "execute_result"
    }
   ],
   "source": [
    "class Example:\n",
    "    pass\n",
    "obj = Example()\n",
    "setattr(obj, 'x', 100)\n",
    "obj.x  \n"
   ]
  },
  {
   "cell_type": "markdown",
   "id": "a44edd93",
   "metadata": {},
   "source": [
    "### slice(start, stop[, step]): Returns a slice object representing the set of indices specified by range(start, stop, step)."
   ]
  },
  {
   "cell_type": "code",
   "execution_count": 52,
   "id": "be48b4a1",
   "metadata": {
    "scrolled": false
   },
   "outputs": [
    {
     "name": "stdout",
     "output_type": "stream",
     "text": [
      "Pto\n"
     ]
    },
    {
     "data": {
      "text/plain": [
       "'hlh '"
      ]
     },
     "execution_count": 52,
     "metadata": {},
     "output_type": "execute_result"
    }
   ],
   "source": [
    "slice_obj = slice(0, 5, 2)\n",
    "print('Python'[slice_obj])\n",
    "s= \"hello how are you\"\n",
    "s[slice(0,10,3)]"
   ]
  },
  {
   "cell_type": "markdown",
   "id": "f0d52535",
   "metadata": {},
   "source": [
    "### sorted(iterable[, key][, reverse]): Returns a new sorted list from the elements in the iterable."
   ]
  },
  {
   "cell_type": "code",
   "execution_count": 57,
   "id": "4af31f42",
   "metadata": {},
   "outputs": [
    {
     "name": "stdout",
     "output_type": "stream",
     "text": [
      "[1, 2, 3]\n",
      "[3, 2, 1]\n",
      "['apple', 'banana', 'cherry']\n",
      "[(3, 'a'), (1, 'b'), (2, 'c')]\n",
      "[(1, 'b'), (2, 'c'), (3, 'a')]\n"
     ]
    }
   ],
   "source": [
    "print(sorted([3, 1, 2]))\n",
    "print(sorted([3, 1, 2], reverse=True))\n",
    "print(sorted(['banana', 'apple', 'cherry'], key=len) )\n",
    "print(sorted([(1, 'b'), (3, 'a'), (2, 'c')], key=lambda x: x[1]) )\n",
    "print(sorted([(1, 'b'), (3, 'a'), (2, 'c')], key=lambda x: x[0]) )"
   ]
  },
  {
   "cell_type": "markdown",
   "id": "4c30def6",
   "metadata": {},
   "source": [
    "### @Staticmethod Converts a method into a static method."
   ]
  },
  {
   "cell_type": "code",
   "execution_count": 58,
   "id": "f08b4d5f",
   "metadata": {},
   "outputs": [
    {
     "data": {
      "text/plain": [
       "'static method called'"
      ]
     },
     "execution_count": 58,
     "metadata": {},
     "output_type": "execute_result"
    }
   ],
   "source": [
    "class Example:\n",
    "    @staticmethod\n",
    "    def static_method():\n",
    "        return 'static method called'\n",
    "Example.static_method()"
   ]
  },
  {
   "cell_type": "markdown",
   "id": "9322a860",
   "metadata": {},
   "source": [
    "# diff between instance methods and class methods and static methods\n",
    "\n",
    "**`instance methods`**  can access and modify the object instance (self) and its attributes.\n",
    "Instance methods take self as the first parameter, which points to the instance of the class when the method is called.\n",
    "They can be called only by an instance of the class. <br>\n",
    "**`class methods`** : Class methods take cls as the first parameter, which points to the class itself rather than the instance.\n",
    "They can modify class state that applies across all instances of the class.\n",
    "Class methods are decorated with @classmethod.<br>\n",
    "**`Static methods`** :Static methods do not take a self or cls parameter. They are similar to regular functions that belong to the namespace of the class.\n",
    "They cannot modify object instance or class state.\n",
    "Static methods are decorated with @staticmethod and are used for utility or helper functions that could logically belong to the class’s namespace."
   ]
  },
  {
   "cell_type": "code",
   "execution_count": 59,
   "id": "bb1dac42",
   "metadata": {
    "scrolled": true
   },
   "outputs": [
    {
     "name": "stdout",
     "output_type": "stream",
     "text": [
      "('instance method called', <__main__.MyClass object at 0x0000026CCB209AD0>)\n"
     ]
    }
   ],
   "source": [
    "class MyClass:\n",
    "    def instance_method(self):\n",
    "        return 'instance method called', self\n",
    "\n",
    "obj = MyClass()\n",
    "print(obj.instance_method()) "
   ]
  },
  {
   "cell_type": "code",
   "execution_count": 60,
   "id": "54b91c5f",
   "metadata": {},
   "outputs": [
    {
     "name": "stdout",
     "output_type": "stream",
     "text": [
      "('class method called', <class '__main__.MyClass'>)\n"
     ]
    }
   ],
   "source": [
    "class MyClass:\n",
    "    @classmethod\n",
    "    def class_method(cls):\n",
    "        return 'class method called', cls\n",
    "\n",
    "print(MyClass.class_method())  "
   ]
  },
  {
   "cell_type": "code",
   "execution_count": 61,
   "id": "7c2872c2",
   "metadata": {},
   "outputs": [
    {
     "name": "stdout",
     "output_type": "stream",
     "text": [
      "static method called\n"
     ]
    }
   ],
   "source": [
    "class MyClass:\n",
    "    @staticmethod\n",
    "    def static_method():\n",
    "        return 'static method called'\n",
    "\n",
    "print(MyClass.static_method()) \n"
   ]
  },
  {
   "cell_type": "markdown",
   "id": "a4faae40",
   "metadata": {},
   "source": [
    "### vars([object]): Returns the __dict__ attribute of an object."
   ]
  },
  {
   "cell_type": "code",
   "execution_count": 66,
   "id": "cea053da",
   "metadata": {},
   "outputs": [
    {
     "name": "stdout",
     "output_type": "stream",
     "text": [
      "{'__module__': '__main__', 'x': 5, 'y': 'hello', '__dict__': <attribute '__dict__' of 'Example' objects>, '__weakref__': <attribute '__weakref__' of 'Example' objects>, '__doc__': None}\n"
     ]
    }
   ],
   "source": [
    "class Example:\n",
    "    x = 5\n",
    "    y = 'hello'\n",
    "print(vars(Example) )"
   ]
  },
  {
   "cell_type": "markdown",
   "id": "25d5bdf8",
   "metadata": {},
   "source": [
    "### zip(*iterables): Returns an iterator of tuples, where the i-th tuple contains the i-th element from each of the argument sequences."
   ]
  },
  {
   "cell_type": "code",
   "execution_count": 67,
   "id": "bedf20f9",
   "metadata": {},
   "outputs": [
    {
     "data": {
      "text/plain": [
       "[(1, 'a'), (2, 'b'), (3, 'c')]"
      ]
     },
     "execution_count": 67,
     "metadata": {},
     "output_type": "execute_result"
    }
   ],
   "source": [
    "list(zip([1, 2, 3], ['a', 'b', 'c']))  # Output: [(1, 'a'), (2, 'b'), (3, 'c')]\n"
   ]
  }
 ],
 "metadata": {
  "kernelspec": {
   "display_name": "Python 3 (ipykernel)",
   "language": "python",
   "name": "python3"
  },
  "language_info": {
   "codemirror_mode": {
    "name": "ipython",
    "version": 3
   },
   "file_extension": ".py",
   "mimetype": "text/x-python",
   "name": "python",
   "nbconvert_exporter": "python",
   "pygments_lexer": "ipython3",
   "version": "3.11.4"
  }
 },
 "nbformat": 4,
 "nbformat_minor": 5
}
