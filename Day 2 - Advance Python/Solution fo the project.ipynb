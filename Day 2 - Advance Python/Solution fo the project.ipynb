{
 "cells": [
  {
   "cell_type": "markdown",
   "id": "61fe2cf6",
   "metadata": {},
   "source": [
    "# project 1\n",
    "\n",
    "# Personal Finance Tracker and Budget Planner Project\n"
   ]
  },
  {
   "cell_type": "markdown",
   "id": "fdff6844",
   "metadata": {},
   "source": [
    "\n",
    "\n",
    "## Steps to Build the Project\n",
    "1. **Set Up Basic Structure**:\n",
    "   - Start with a Python script and define a menu system for user interaction.\n",
    "\n",
    "2. **Transaction Recording Feature**:\n",
    "   - Implement adding and storing transactions with all necessary details.\n",
    "\n",
    "3. **Transaction Viewing Feature**:\n",
    "   - Create functionality to view the transaction history with various filters.\n",
    "\n",
    "4. **Budget Setup Feature**:\n",
    "   - Allow users to create and edit a monthly budget for different categories.\n",
    "\n",
    "5. **Budget Analysis Feature**:\n",
    "   - Develop a system to compare expenses against the budget and provide insights.\n",
    "\n",
    "6. **Testing and Refinement**:\n",
    "   - Continuously test each feature for functionality and user experience improvements.\n",
    "\n",
    "7. **Data Persistence (Optional)**:\n",
    "   - Add features to save and load data to and from a file.\n",
    "\n",
    "8. **Final Review and Testing**:\n",
    "   - Conduct a thorough review and testing of the application to ensure reliability and usability.\n",
    "\n"
   ]
  },
  {
   "cell_type": "markdown",
   "id": "6ef9df93",
   "metadata": {},
   "source": [
    "## let's begin with the Basic Structure"
   ]
  },
  {
   "cell_type": "code",
   "execution_count": 28,
   "id": "1f8ab227",
   "metadata": {},
   "outputs": [],
   "source": [
    "def main_menu():\n",
    "    print(\"--------------How can i help you--------------\")\n",
    "    print(\"1. Add Transaction\")\n",
    "    print(\"2. View Transaction\")\n",
    "    print(\"3. Set Budget\")\n",
    "    print(\"4. View Budget\")\n",
    "    print(\"5. Exit\")\n",
    "    choice = input(\"Enter your choice: \")\n",
    "    return choice"
   ]
  },
  {
   "cell_type": "code",
   "execution_count": 27,
   "id": "2bfbac08",
   "metadata": {},
   "outputs": [],
   "source": [
    "def main():\n",
    "    while True:\n",
    "        choice = main_menu()\n",
    "        if choice == '1':\n",
    "            Add_transaction()\n",
    "        elif choice == '2':\n",
    "            view_transactions()\n",
    "        elif choice == '3':\n",
    "            set_budget()\n",
    "        elif choice == '4':\n",
    "            view_budget()\n",
    "        elif choice == '5':\n",
    "            print(\"Exiting...\")\n",
    "            break\n",
    "        else:\n",
    "            print(\"Invalid choice, please try again.\")\n"
   ]
  },
  {
   "cell_type": "markdown",
   "id": "569655d7",
   "metadata": {},
   "source": [
    "## Add Transaction function  "
   ]
  },
  {
   "cell_type": "code",
   "execution_count": 3,
   "id": "078bca56",
   "metadata": {},
   "outputs": [],
   "source": [
    "Transaction =[]\n",
    "def Add_transaction ():\n",
    "    Amount = float (input(\"Emter the amount\"))\n",
    "    TransactionType = input (\"What is the Type of this Transaction (Expense/Income): \").lower()\n",
    "    Category = input (\"Enter the category \")\n",
    "    Transaction.append({'amount': Amount, 'type': TransactionType, 'category': Category})\n",
    "    print(\"Transaction added successfully.\")"
   ]
  },
  {
   "cell_type": "markdown",
   "id": "bae6b901",
   "metadata": {},
   "source": [
    "##  Transaction Viewing Feature"
   ]
  },
  {
   "cell_type": "code",
   "execution_count": 13,
   "id": "77a4f5e1",
   "metadata": {},
   "outputs": [],
   "source": [
    "def view_transactions():\n",
    "    for transaction in Transaction:\n",
    "        print(f\"Amount: {transaction['amount']}, Type: {transaction['type']}, Category: {transaction['category']}\")\n"
   ]
  },
  {
   "cell_type": "markdown",
   "id": "722da6e1",
   "metadata": {},
   "source": [
    "## Budget Setup Feature"
   ]
  },
  {
   "cell_type": "code",
   "execution_count": 7,
   "id": "96cd3b9b",
   "metadata": {},
   "outputs": [],
   "source": [
    "budgets = {}\n",
    "\n",
    "def set_budget():\n",
    "    category = input(\"Enter the category for the budget: \")\n",
    "    amount = float(input(\"Set the budget amount: \"))\n",
    "    budgets[category] = amount\n",
    "    print(\"Budget set successfully.\")\n"
   ]
  },
  {
   "cell_type": "markdown",
   "id": "d7d37148",
   "metadata": {},
   "source": [
    "## Budget Analysis Feature"
   ]
  },
  {
   "cell_type": "code",
   "execution_count": 8,
   "id": "6cf87bc8",
   "metadata": {},
   "outputs": [],
   "source": [
    "def view_budget():\n",
    "    for category, amount in budgets.items():\n",
    "        print(f\"Category: {category}, Budget: {amount}\")\n"
   ]
  },
  {
   "cell_type": "markdown",
   "id": "76dd6ae6",
   "metadata": {},
   "source": [
    "## Data Persistence Implementation"
   ]
  },
  {
   "cell_type": "code",
   "execution_count": 18,
   "id": "abf1fce9",
   "metadata": {},
   "outputs": [],
   "source": [
    "import json\n",
    "\n",
    "def save_data():\n",
    "    with open('finance_data.json', 'w') as file:\n",
    "        data = {\n",
    "            'transactions': Transaction,\n",
    "            'budgets': budgets\n",
    "        }\n",
    "        json.dump(data, file)\n",
    "    print(\"Data saved successfully.\")\n"
   ]
  },
  {
   "cell_type": "markdown",
   "id": "d379a5be",
   "metadata": {},
   "source": [
    "## Loading Data from a File"
   ]
  },
  {
   "cell_type": "code",
   "execution_count": 20,
   "id": "c667e0d0",
   "metadata": {},
   "outputs": [],
   "source": [
    "def load_data():\n",
    "    try:\n",
    "        with open('finance_data.json', 'r') as file:\n",
    "            data = json.load(file)\n",
    "            return data['transactions'], data['budgets']\n",
    "    except FileNotFoundError:\n",
    "        print(\"No saved data found. Starting fresh.\")\n",
    "        return [], {}\n",
    "\n",
    "# At the start of your program\n",
    "transactions, budgets = load_data()\n",
    "\n"
   ]
  },
  {
   "cell_type": "markdown",
   "id": "6b95edbf",
   "metadata": {},
   "source": [
    "## Test the code"
   ]
  },
  {
   "cell_type": "code",
   "execution_count": 29,
   "id": "49be40da",
   "metadata": {},
   "outputs": [
    {
     "name": "stdout",
     "output_type": "stream",
     "text": [
      "--------------How can i help you--------------\n",
      "1. Add Transaction\n",
      "2. View Transaction\n",
      "3. Set Budget\n",
      "4. View Budget\n",
      "5. Exit\n",
      "Enter your choice: 1\n",
      "Emter the amount12\n",
      "What is the Type of this Transaction (Expense/Income): income\n",
      "Enter the category banque\n",
      "Transaction added successfully.\n",
      "--------------How can i help you--------------\n",
      "1. Add Transaction\n",
      "2. View Transaction\n",
      "3. Set Budget\n",
      "4. View Budget\n",
      "5. Exit\n",
      "Enter your choice: 2\n",
      "Amount: 1233.0, Type: income, Category: banque\n",
      "Amount: 12.0, Type: income, Category: banque\n",
      "--------------How can i help you--------------\n",
      "1. Add Transaction\n",
      "2. View Transaction\n",
      "3. Set Budget\n",
      "4. View Budget\n",
      "5. Exit\n",
      "Enter your choice: 3\n",
      "Enter the category for the budget: 245554\n",
      "Set the budget amount: 676\n",
      "Budget set successfully.\n",
      "--------------How can i help you--------------\n",
      "1. Add Transaction\n",
      "2. View Transaction\n",
      "3. Set Budget\n",
      "4. View Budget\n",
      "5. Exit\n",
      "Enter your choice: 5\n",
      "Exiting...\n",
      "Data saved successfully.\n"
     ]
    }
   ],
   "source": [
    "if __name__ == \"__main__\":\n",
    "    transactions, budgets = load_data()\n",
    "    main()\n",
    "    save_data()\n"
   ]
  },
  {
   "cell_type": "code",
   "execution_count": null,
   "id": "8fbd12c1",
   "metadata": {},
   "outputs": [],
   "source": []
  }
 ],
 "metadata": {
  "kernelspec": {
   "display_name": "Python 3 (ipykernel)",
   "language": "python",
   "name": "python3"
  },
  "language_info": {
   "codemirror_mode": {
    "name": "ipython",
    "version": 3
   },
   "file_extension": ".py",
   "mimetype": "text/x-python",
   "name": "python",
   "nbconvert_exporter": "python",
   "pygments_lexer": "ipython3",
   "version": "3.11.4"
  }
 },
 "nbformat": 4,
 "nbformat_minor": 5
}
